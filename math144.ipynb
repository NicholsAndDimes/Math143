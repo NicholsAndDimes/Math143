{
 "cells": [
  {
   "cell_type": "code",
   "execution_count": 278,
   "metadata": {},
   "outputs": [],
   "source": [
    "import math\n",
    "from fractions import Fraction\n",
    "import re\n",
    "import json\n",
    "\n",
    "circle_json = {\n",
    "    0:{\n",
    "        \"coords\":\"(1,0)\",\n",
    "        \"radian\":\"0\",\n",
    "        \"sin\":\"0\",\n",
    "        \"cos\":\"1\",\n",
    "    },\n",
    "    30:{\n",
    "        \"coords\":\"(sqrt(3)/2,1/2)\",\n",
    "        \"radian\":\"pi/6\",\n",
    "        \"sin\":\"1/2\",\n",
    "        \"cos\":\"sqrt(3)/2\",\n",
    "    },\n",
    "    45:{\n",
    "        \"coords\":\"(sqrt(2)/2,sqrt(2)/2)\",\n",
    "        \"radian\":\"pi/4\",\n",
    "        \"sin\":\"sqrt(2)/2\",\n",
    "        \"cos\":\"sqrt(2)/2\",\n",
    "    },\n",
    "    60:{\n",
    "        \"coords\":\"(1/2,sqrt(3)/2)\",\n",
    "        \"radian\":\"pi/3\",\n",
    "        \"sin\":\"sqrt(3)/2\",\n",
    "        \"cos\":\"1/2\",\n",
    "    },\n",
    "    90:{\n",
    "        \"coords\":\"(0,1)\",\n",
    "        \"radian\":\"pi/2\",\n",
    "        \"sin\":\"1\",\n",
    "        \"cos\":\"0\",\n",
    "    },\n",
    "    120:{\n",
    "        \"coords\":\"(-1/2,sqrt(3)/2)\",\n",
    "        \"radian\":\"2pi/3\",\n",
    "        \"sin\":\"sqrt(3)/2\",\n",
    "        \"cos\":\"-1/2\",\n",
    "    },\n",
    "    135:{\n",
    "        \"coords\":\"(-sqrt(2)/2,sqrt(2)/2)\",\n",
    "        \"radian\":\"3pi/4\",\n",
    "        \"sin\":\"sqrt(2)/2\",\n",
    "        \"cos\":\"-sqrt(2)/2\",\n",
    "    },\n",
    "    150:{\n",
    "        \"coords\":\"(-sqrt(3)/2,1/2)\",\n",
    "        \"radian\":\"5pi/6\",\n",
    "        \"sin\":\"1/2\",\n",
    "        \"cos\":\"-sqrt(3)/2\",\n",
    "    },\n",
    "    180:{\n",
    "        \"coords\":\"(-1,0)\",\n",
    "        \"radian\":\"pi\",\n",
    "        \"sin\":\"0\",\n",
    "        \"cos\":\"-1\",\n",
    "    },\n",
    "    210:{\n",
    "        \"coords\":\"(-sqrt(3)/2,-1/2)\",\n",
    "        \"radian\":\"7pi/6\",\n",
    "        \"sin\":\"-1/2\",\n",
    "        \"cos\":\"-sqrt(3)/2\",\n",
    "    },\n",
    "    225:{\n",
    "        \"coords\":\"(-sqrt(2)/2,-sqrt(2)/2)\",\n",
    "        \"radian\":\"5pi/4\",\n",
    "        \"sin\":\"-sqrt(2)/2\",\n",
    "        \"cos\":\"-sqrt(2)/2\",\n",
    "    },\n",
    "    240:{\n",
    "        \"coords\":\"(-1/2,-sqrt(3)/2)\",\n",
    "        \"radian\":\"4pi/3\",\n",
    "        \"sin\":\"-sqrt(3)/2\",\n",
    "        \"cos\":\"-1/2\",\n",
    "    },\n",
    "    270:{\n",
    "        \"coords\":\"(0,-1)\",\n",
    "        \"radian\":\"3pi/2\",\n",
    "        \"sin\":\"-1\",\n",
    "        \"cos\":\"0\",\n",
    "    },\n",
    "    300:{\n",
    "        \"coords\":\"(1/2,-sqrt(3)/2)\",\n",
    "        \"radian\":\"5pi/3\",\n",
    "        \"sin\":\"-sqrt(3)/2\",\n",
    "        \"cos\":\"1/2\",\n",
    "    },\n",
    "    315:{\n",
    "        \"coords\":\"(sqrt(2)/2,-sqrt(2)/2)\",\n",
    "        \"radian\":\"7pi/4\",\n",
    "        \"sin\":\"-sqrt(2)/2\",\n",
    "        \"cos\":\"sqrt(2)/2\",\n",
    "    },\n",
    "    330:{\n",
    "        \"coords\":\"(sqrt(3)/2,-1/2)\",\n",
    "        \"radian\":\"11pi/6\",\n",
    "        \"sin\":\"-1/2\",\n",
    "        \"cos\":\"sqrt(3)/2\",\n",
    "    }\n",
    "}\n",
    "\n",
    "def circle_lookup(subtype, target):\n",
    "    answers = []\n",
    "    for angle, results in circle_json.items():\n",
    "        if results[subtype] == target:\n",
    "\n",
    "            answers.append((angle, circle_json[angle]))\n",
    "\n",
    "    return answers"
   ]
  },
  {
   "cell_type": "code",
   "execution_count": 13,
   "metadata": {},
   "outputs": [
    {
     "data": {
      "text/plain": [
       "34.199999999999996"
      ]
     },
     "execution_count": 13,
     "metadata": {},
     "output_type": "execute_result"
    }
   ],
   "source": [
    "radian * radius = arc length"
   ]
  },
  {
   "cell_type": "code",
   "execution_count": 14,
   "metadata": {},
   "outputs": [
    {
     "data": {
      "text/plain": [
       "0.8181818181818182"
      ]
     },
     "execution_count": 14,
     "metadata": {},
     "output_type": "execute_result"
    }
   ],
   "source": [
    "4/pi/3"
   ]
  },
  {
   "cell_type": "code",
   "execution_count": 269,
   "metadata": {},
   "outputs": [],
   "source": [
    "def rad_to_degree(rad):\n",
    "    degree = round((180/math.pi)*rad,2)\n",
    "    print(degree)\n",
    "\n",
    "def degree_to_rad(degree):\n",
    "    rad = round((math.pi/180)*degree,2)\n",
    "    print(rad)\n",
    "\n",
    "def triangle_pythag(a,b,c):\n",
    "    if type(c) == int:\n",
    "        if type(a) == int:\n",
    "            b = simplify_sqrt((c**2)-(a**2))\n",
    "        else:\n",
    "            a = simplify_sqrt((c**2)-(b**2))\n",
    "    else:\n",
    "        c = simplify_sqrt((b**2)+(a**2))\n",
    "    return a,b,c\n",
    "    \n",
    "def simplify_sqrt(x):\n",
    "    a = f\"sqrt({x})\"\n",
    "    b = float(x**(1/2))\n",
    "    if b.is_integer():\n",
    "        a = int(b)\n",
    "    if not type(a) == int:\n",
    "        for i in range(x,1,-1):\n",
    "            if x % i == 0:\n",
    "                c = i**(1/2)\n",
    "                if c.is_integer():\n",
    "                    a = f\"{int(c)} sqrt({int(x/c)})\"      \n",
    "    return a\n",
    "\n",
    "def notes():\n",
    "    print(\n",
    "        \"soh cah toa csc,ho sec,ha, cot,ao\\n\\\n",
    "        \\rsin=y/r cos=x/r tan=y/x csc=r/y sec=r/x cot=x/y -- (r)adius is typically 1\\n\\\n",
    "        \\rradian * radius = arc length\"\n",
    "    )\n",
    "\n",
    "def triangle_one_side(angle, side_length, aoh, sohcahtoa):\n",
    "    angle = math.radians(angle)\n",
    "    a = \"\"\n",
    "    o = \"\"\n",
    "    h = \"\"\n",
    "    if aoh == \"a\":\n",
    "        a = side_length\n",
    "    elif aoh == \"o\":\n",
    "        o = side_length\n",
    "    elif aoh == \"h\":\n",
    "        h = side_length\n",
    "    if sohcahtoa == \"soh\":\n",
    "        if type(o) == int:\n",
    "            h = o/math.sin(angle)\n",
    "        else:\n",
    "            o = h*math.sin(angle)\n",
    "    elif sohcahtoa == \"cah\":\n",
    "        if type(a) == int:\n",
    "            h = a/math.cos(angle)\n",
    "        else:\n",
    "            a = h*math.cos(angle)\n",
    "    elif sohcahtoa == \"toa\":\n",
    "        if type(o) == int:\n",
    "            a = o/math.tan(angle)\n",
    "        else:\n",
    "            o = a*math.tan(angle)\n",
    "    # elif sohcahtoa == \"csc\":\n",
    "    #     if type(h) == int:\n",
    "    #         o = h/math.sin(angle)\n",
    "    #     else:\n",
    "    #         h = o*math.sin(angle)\n",
    "    # elif sohcahtoa == \"sec\":\n",
    "    #     if type(h) == int:\n",
    "    #         a = h/math.cos(angle)\n",
    "    #     else:\n",
    "    #         h = a*math.cos(angle)\n",
    "    # elif sohcahtoa == \"cot\":\n",
    "    #     if type(a) == int:\n",
    "    #         o = a/math.tan(angle)\n",
    "    #     else:\n",
    "    #         a = o*math.tan(angle)\n",
    "    print(f\"a={a}, o={o}, h={h}\")\n",
    "    \n",
    "def minutes_to_degrees(d,m,s):\n",
    "    print(d+(m/60)+(s/3600))\n",
    "\n",
    "def degrees_to_minutes(d):\n",
    "    minute, degree = math.modf(d)\n",
    "    minute = minute*60\n",
    "    second, minute = math.modf(minute)\n",
    "    second = round(second*60)\n",
    "    print(f\"{int(degree)}{chr(176)}{int(minute)}'{round(second)}\\\"\")\n",
    "\n",
    "def thirty_sixty_ninety(x,slh):\n",
    "    if slh == \"short\":\n",
    "        s = x\n",
    "        l = f\"{x}sqrt(3)\"\n",
    "        h = 2*x\n",
    "    elif slh == \"long\":\n",
    "        s = f\"{x}/sqrt(3)\"\n",
    "        if x % 3 == 0:\n",
    "            f\"{int(x/3)}sqrt(3)\"\n",
    "        l = x\n",
    "        h = f\"{int(2*x)}sqrt(3)/3\"\n",
    "        if (2*x) % 3 == 0:\n",
    "            h = f\"{int((2*x)/3)}sqrt(3)\"\n",
    "    elif slh == \"hyp\":\n",
    "        s = (x/2)\n",
    "        l = f\"{x}sqrt(3)/2\"\n",
    "        if x % 2 == 0:\n",
    "            l = f\"{int(x/2)}sqrt(3)\"\n",
    "        h = x\n",
    "    print(f\"short = {s}, long = {l}, hyp={h}\")\n",
    "\n",
    "\n",
    "def fourty_fiver(x,sh):\n",
    "    if sh == \"short\":\n",
    "        s = x\n",
    "        h = f\"{x} sqrt(2)\"\n",
    "    elif sh == \"hyp\":\n",
    "        h = x\n",
    "        s = f\"{x}/sqrt(2)\"\n",
    "        if x % 2 == 0:\n",
    "            s = f\"{int(x/2)}sqrt(2)\"\n",
    "    print(f\"short = {s}, hyp={h}\")\n",
    "\n",
    "def sector_area(radius,radian,area) -> float:\n",
    "    if not type(area) == float:\n",
    "        area = (1/2)*(radius**2)*(radian)\n",
    "    elif not type(radian) == float:\n",
    "        radian = area/((1/2)*(radius**2))\n",
    "    else:\n",
    "        radius = (area/((1/2)*radian))**(1/2)\n",
    "    print(f\"radius = {radius}, radian = {radian}, area = {area}\")\n",
    "\n",
    "def x_or_y_with_radius(xy,radius):\n",
    "    a = (radius*radius)-(xy*xy)\n",
    "    if math.sqrt(a) % 1 == 0:\n",
    "        return math.sqrt(a)\n",
    "    else:\n",
    "        return f\"sqrt({a})\"\n",
    "\n",
    "def quadrants():\n",
    "    {\n",
    "        \"quad1\":{\n",
    "            \"all > 0\"\n",
    "        },\n",
    "        \"quad2\":{\n",
    "            \"cos < 0\",\n",
    "            \"sin > 0\",\n",
    "            \"tan < 0\",\n",
    "            \"sec < 0\",\n",
    "            \"csc > 0\",\n",
    "            \"cot > 0\",\n",
    "        },\n",
    "        \"quad3\":{\n",
    "            \"cos < 0\",\n",
    "            \"sin < 0\",\n",
    "            \"tan > 0\",\n",
    "            \"sec < 0\",\n",
    "            \"csc < 0\",\n",
    "            \"cot > 0\",\n",
    "        },\n",
    "        \"quad4\":{\n",
    "            \"cos > 0\",\n",
    "            \"sin < 0\",\n",
    "            \"tan > 0\",\n",
    "            \"sec > 0\",\n",
    "            \"csc < 0\",\n",
    "            \"cot > 0\",\n",
    "        }\n",
    "    }\n",
    "\n",
    "def reference_angle(x,degree=True):\n",
    "    if degree:\n",
    "        a = x % 180\n",
    "        if a > 90:\n",
    "            a = 180-a\n",
    "    else:\n",
    "        b = Fraction(x % 1).limit_denominator()\n",
    "        if b > (1/2):\n",
    "            b = Fraction((b-1)*-1)\n",
    "        a = f\"{b.numerator}pi/{b.denominator}\"\n",
    "    return a\n",
    "\n",
    "\n",
    "def line_distance(coord_a,coord_b):\n",
    "    x1 = coord_a[0]\n",
    "    x2 = coord_b[0]\n",
    "    y1 = coord_a[1]\n",
    "    y2 = coord_b[1]\n",
    "    print(f\"d=sqrt(({x2}-{x1})^2+({y2}-{y1})^2)\")\n",
    "    c = (x2-x1)**2\n",
    "    d = (y2-y1)**2\n",
    "    e = c+d\n",
    "    print(f\"d=sqrt({c}+{d})\")\n",
    "    print(f\"d=sqrt({e})\")\n",
    "\n",
    "    return simplify_sqrt(e)\n",
    "\n",
    "def circle_xy(coords):\n",
    "    x = coords[0]\n",
    "    y = coords[1]\n",
    "    r = line_distance((0,0),coords)\n",
    "\n",
    "    print(f\"x = {x}, y = {y}, r= {r}\")\n",
    "\n",
    "def area_non_right_angle(side_a,side_b,angle):\n",
    "    return (1/2)*(side_a)*(side_b)*math.sin(math.radians(angle))"
   ]
  },
  {
   "cell_type": "code",
   "execution_count": 265,
   "metadata": {},
   "outputs": [
    {
     "name": "stdout",
     "output_type": "stream",
     "text": [
      "a=, o=5.142300877492314, h=8\n"
     ]
    }
   ],
   "source": [
    "triangle_one_side(40,8,\"h\",\"soh\")"
   ]
  },
  {
   "cell_type": "code",
   "execution_count": 235,
   "metadata": {},
   "outputs": [
    {
     "name": "stdout",
     "output_type": "stream",
     "text": [
      "soh cah toa csc,ho sec,ha, cot,ao\n",
      "sin=y/r cos=x/r tan=y/x csc=r/y sec=r/x cot=x/y -- (r)adius is typically 1\n",
      "radian * radius = arc length\n"
     ]
    }
   ],
   "source": [
    "notes()"
   ]
  },
  {
   "cell_type": "code",
   "execution_count": 272,
   "metadata": {},
   "outputs": [
    {
     "data": {
      "text/plain": [
       "13.247981605830123"
      ]
     },
     "execution_count": 272,
     "metadata": {},
     "output_type": "execute_result"
    }
   ],
   "source": [
    "area_non_right_angle(10,5,148)"
   ]
  },
  {
   "cell_type": "code",
   "execution_count": 186,
   "metadata": {},
   "outputs": [
    {
     "data": {
      "text/plain": [
       "{'coords': '(0,-1)', 'radian': '3pi/2', 'sin': '-1', 'cos': '0'}"
      ]
     },
     "execution_count": 186,
     "metadata": {},
     "output_type": "execute_result"
    }
   ],
   "source": [
    "circle_json[270]"
   ]
  },
  {
   "cell_type": "code",
   "execution_count": 281,
   "metadata": {},
   "outputs": [
    {
     "data": {
      "text/plain": [
       "[(90, {'coords': '(0,1)', 'radian': 'pi/2', 'sin': '1', 'cos': '0'})]"
      ]
     },
     "execution_count": 281,
     "metadata": {},
     "output_type": "execute_result"
    }
   ],
   "source": [
    "circle_lookup(\"sin\",\"1\")"
   ]
  },
  {
   "cell_type": "code",
   "execution_count": 111,
   "metadata": {},
   "outputs": [
    {
     "name": "stdout",
     "output_type": "stream",
     "text": [
      "321°27'25\"\n"
     ]
    }
   ],
   "source": [
    "degrees_to_minutes(321.457)"
   ]
  },
  {
   "cell_type": "code",
   "execution_count": 112,
   "metadata": {},
   "outputs": [
    {
     "name": "stdout",
     "output_type": "stream",
     "text": [
      "66.32\n"
     ]
    }
   ],
   "source": [
    "rad_to_degree((7*math.pi)/19)"
   ]
  },
  {
   "cell_type": "code",
   "execution_count": 211,
   "metadata": {},
   "outputs": [
    {
     "data": {
      "text/plain": [
       "120"
      ]
     },
     "execution_count": 211,
     "metadata": {},
     "output_type": "execute_result"
    }
   ],
   "source": [
    "660 % 180"
   ]
  },
  {
   "cell_type": "code",
   "execution_count": 203,
   "metadata": {},
   "outputs": [
    {
     "data": {
      "text/plain": [
       "Fraction(2, 15)"
      ]
     },
     "execution_count": 203,
     "metadata": {},
     "output_type": "execute_result"
    }
   ],
   "source": [
    "Fraction(-58/15 % 2).limit_denominator()"
   ]
  },
  {
   "cell_type": "code",
   "execution_count": 232,
   "metadata": {},
   "outputs": [
    {
     "data": {
      "text/plain": [
       "60"
      ]
     },
     "execution_count": 232,
     "metadata": {},
     "output_type": "execute_result"
    }
   ],
   "source": [
    "reference_angle(420)"
   ]
  },
  {
   "cell_type": "code",
   "execution_count": 233,
   "metadata": {},
   "outputs": [
    {
     "data": {
      "text/plain": [
       "'2pi/9'"
      ]
     },
     "execution_count": 233,
     "metadata": {},
     "output_type": "execute_result"
    }
   ],
   "source": [
    "reference_angle(25/9,False)"
   ]
  },
  {
   "cell_type": "code",
   "execution_count": 229,
   "metadata": {},
   "outputs": [
    {
     "name": "stdout",
     "output_type": "stream",
     "text": [
      "1/9\n"
     ]
    }
   ],
   "source": [
    "if c > 1/2:\n",
    "    print(((c)-1)*-1)"
   ]
  },
  {
   "cell_type": "code",
   "execution_count": 228,
   "metadata": {},
   "outputs": [],
   "source": [
    "c =Fraction(8/9).limit_denominator()"
   ]
  },
  {
   "cell_type": "code",
   "execution_count": 121,
   "metadata": {},
   "outputs": [
    {
     "data": {
      "text/plain": [
       "0.41666666666666663"
      ]
     },
     "execution_count": 121,
     "metadata": {},
     "output_type": "execute_result"
    }
   ],
   "source": [
    "1-(7/12)"
   ]
  },
  {
   "cell_type": "code",
   "execution_count": null,
   "metadata": {},
   "outputs": [],
   "source": []
  }
 ],
 "metadata": {
  "interpreter": {
   "hash": "916dbcbb3f70747c44a77c7bcd40155683ae19c65e1c03b4aa3499c5328201f1"
  },
  "kernelspec": {
   "display_name": "Python 3.8.10 64-bit",
   "language": "python",
   "name": "python3"
  },
  "language_info": {
   "codemirror_mode": {
    "name": "ipython",
    "version": 3
   },
   "file_extension": ".py",
   "mimetype": "text/x-python",
   "name": "python",
   "nbconvert_exporter": "python",
   "pygments_lexer": "ipython3",
   "version": "3.8.10"
  },
  "orig_nbformat": 4
 },
 "nbformat": 4,
 "nbformat_minor": 2
}
