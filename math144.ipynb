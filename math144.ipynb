{
 "cells": [
  {
   "cell_type": "code",
   "execution_count": 20,
   "metadata": {},
   "outputs": [],
   "source": [
    "import math\n",
    "from fractions import Fraction\n",
    "import re\n",
    "\n",
    "circle_json = {\n",
    "    \"degree\":{\n",
    "        0:{\n",
    "            \"coords\":\"(1,0)\",\n",
    "            \"radian\":\"0\",\n",
    "            \"sin\":\"0\",\n",
    "            \"cos\":\"1\",\n",
    "        },\n",
    "        30:{\n",
    "            \"coords\":\"(sqrt(3)/2,1/2)\",\n",
    "            \"radian\":\"pi/6\",\n",
    "            \"sin\":\"1/2\",\n",
    "            \"cos\":\"sqrt(3)/2\",\n",
    "        },\n",
    "        45:{\n",
    "            \"coords\":\"(sqrt(2)/2,sqrt(2)/2)\",\n",
    "            \"radian\":\"pi/4\",\n",
    "            \"sin\":\"sqrt(2)/2\",\n",
    "            \"cos\":\"sqrt(2)/2\",\n",
    "        },\n",
    "        60:{\n",
    "            \"coords\":\"(1/2,sqrt(3)/2)\",\n",
    "            \"radian\":\"pi/3\",\n",
    "            \"sin\":\"sqrt(3)/2\",\n",
    "            \"cos\":\"1/2\",\n",
    "        },\n",
    "        90:{\n",
    "            \"coords\":\"(0,1)\",\n",
    "            \"radian\":\"pi/2\",\n",
    "            \"sin\":\"1\",\n",
    "            \"cos\":\"0\",\n",
    "        },\n",
    "        120:{\n",
    "            \"coords\":\"(-1/2,sqrt(3)/2)\",\n",
    "            \"radian\":\"2pi/3\",\n",
    "            \"sin\":\"sqrt(3)/2\",\n",
    "            \"cos\":\"-1/2\",\n",
    "        },\n",
    "        135:{\n",
    "            \"coords\":\"(-sqrt(2)/2,sqrt(2)/2)\",\n",
    "            \"radian\":\"3pi/4\",\n",
    "            \"sin\":\"sqrt(2)/2\",\n",
    "            \"cos\":\"-sqrt(2)/2\",\n",
    "        },\n",
    "        150:{\n",
    "            \"coords\":\"(-sqrt(3)/2,1/2)\",\n",
    "            \"radian\":\"5pi/6\",\n",
    "            \"sin\":\"1/2\",\n",
    "            \"cos\":\"-sqrt(3)/2\",\n",
    "        },\n",
    "        180:{\n",
    "            \"coords\":\"(-1,0)\",\n",
    "            \"radian\":\"pi\",\n",
    "            \"sin\":\"0\",\n",
    "            \"cos\":\"-1\",\n",
    "        },\n",
    "        210:{\n",
    "            \"coords\":\"(-sqrt(3)/2,-1/2)\",\n",
    "            \"radian\":\"7pi/6\",\n",
    "            \"sin\":\"-1/2\",\n",
    "            \"cos\":\"-sqrt(3)/2\",\n",
    "        },\n",
    "        225:{\n",
    "            \"coords\":\"(-sqrt(2)/2,-sqrt(2)/2)\",\n",
    "            \"radian\":\"5pi/4\",\n",
    "            \"sin\":\"-sqrt(2)/2\",\n",
    "            \"cos\":\"-sqrt(2)/2\",\n",
    "        },\n",
    "        240:{\n",
    "            \"coords\":\"(-1/2,-sqrt(3)/2)\",\n",
    "            \"radian\":\"4pi/3\",\n",
    "            \"sin\":\"-sqrt(3)/2\",\n",
    "            \"cos\":\"-1/2\",\n",
    "        },\n",
    "        270:{\n",
    "            \"coords\":\"(0,-1)\",\n",
    "            \"radian\":\"3pi/2\",\n",
    "            \"sin\":\"-1\",\n",
    "            \"cos\":\"0\",\n",
    "        },\n",
    "        300:{\n",
    "            \"coords\":\"(1/2,-sqrt(3)/2)\",\n",
    "            \"radian\":\"5pi/3\",\n",
    "            \"sin\":\"-sqrt(3)/2\",\n",
    "            \"cos\":\"1/2\",\n",
    "        },\n",
    "        315:{\n",
    "            \"coords\":\"(sqrt(2)/2,-sqrt(2)/2)\",\n",
    "            \"radian\":\"7pi/4\",\n",
    "            \"sin\":\"-sqrt(2)/2\",\n",
    "            \"cos\":\"sqrt(2)/2\",\n",
    "        },\n",
    "        330:{\n",
    "            \"coords\":\"(sqrt(3)/2,-1/2)\",\n",
    "            \"radian\":\"11pi/6\",\n",
    "            \"sin\":\"-1/2\",\n",
    "            \"cos\":\"sqrt(3)/2\",\n",
    "        }\n",
    "    }\n",
    "}"
   ]
  },
  {
   "cell_type": "code",
   "execution_count": 13,
   "metadata": {},
   "outputs": [
    {
     "data": {
      "text/plain": [
       "34.199999999999996"
      ]
     },
     "execution_count": 13,
     "metadata": {},
     "output_type": "execute_result"
    }
   ],
   "source": [
    "radian * radius = arc length"
   ]
  },
  {
   "cell_type": "code",
   "execution_count": 14,
   "metadata": {},
   "outputs": [
    {
     "data": {
      "text/plain": [
       "0.8181818181818182"
      ]
     },
     "execution_count": 14,
     "metadata": {},
     "output_type": "execute_result"
    }
   ],
   "source": [
    "4/pi/3"
   ]
  },
  {
   "cell_type": "code",
   "execution_count": 37,
   "metadata": {},
   "outputs": [],
   "source": [
    "def rad_to_degree(rad):\n",
    "    degree = round((180/math.pi)*rad,2)\n",
    "    print(degree)\n",
    "\n",
    "def degree_to_rad(degree):\n",
    "    rad = round((math.pi/180)*degree,2)\n",
    "    print(rad)\n",
    "\n",
    "def triangle_pythag(a,b,c):\n",
    "    if type(c) == int:\n",
    "        if type(a) == int:\n",
    "            b = simplify_sqrt((c**2)-(a**2))\n",
    "        else:\n",
    "            a = simplify_sqrt((c**2)-(b**2))\n",
    "    else:\n",
    "        c = simplify_sqrt((b**2)+(a**2))\n",
    "    return a,b,c\n",
    "    \n",
    "def simplify_sqrt(x):\n",
    "    a = f\"sqrt({x})\"\n",
    "    b = float(x**(1/2))\n",
    "    if b.is_integer():\n",
    "        a = int(b)\n",
    "    if not type(a) == int:\n",
    "        for i in range(x,1,-1):\n",
    "            if x % i == 0:\n",
    "                c = i**(1/2)\n",
    "                if c.is_integer():\n",
    "                    a = f\"{int(c)} sqrt({int(x/c)})\"      \n",
    "    return a\n",
    "\n",
    "def notes():\n",
    "    print(\n",
    "        \"soh cah toa csc,ho sec,ha, cot,ao\\n\\\n",
    "        \\rsin=y cos=x tan=y/x csc=1/y sec=1/x cot=x/y\\n\\\n",
    "        \\rradian * radius = arc length\"\n",
    "    )\n",
    "\n",
    "def triangle_one_side(angle, side_length, aoh, sohcahtoa):\n",
    "    angle = math.radians(angle)\n",
    "    a = \"\"\n",
    "    o = \"\"\n",
    "    h = \"\"\n",
    "    if aoh == \"a\":\n",
    "        a = side_length\n",
    "    elif aoh == \"o\":\n",
    "        o = side_length\n",
    "    elif aoh == \"h\":\n",
    "        h = side_length\n",
    "    if sohcahtoa == \"soh\":\n",
    "        if type(o) == int:\n",
    "            h = o/math.sin(angle)\n",
    "        else:\n",
    "            o = h*math.sin(angle)\n",
    "    elif sohcahtoa == \"cah\":\n",
    "        if type(a) == int:\n",
    "            h = a/math.cos(angle)\n",
    "        else:\n",
    "            a = h*math.cos(angle)\n",
    "    elif sohcahtoa == \"toa\":\n",
    "        if type(o) == int:\n",
    "            a = o/math.tan(angle)\n",
    "        else:\n",
    "            o = a*math.tan(angle)\n",
    "    # elif sohcahtoa == \"csc\":\n",
    "    #     if type(h) == int:\n",
    "    #         o = h/math.sin(angle)\n",
    "    #     else:\n",
    "    #         h = o*math.sin(angle)\n",
    "    # elif sohcahtoa == \"sec\":\n",
    "    #     if type(h) == int:\n",
    "    #         a = h/math.cos(angle)\n",
    "    #     else:\n",
    "    #         h = a*math.cos(angle)\n",
    "    # elif sohcahtoa == \"cot\":\n",
    "    #     if type(a) == int:\n",
    "    #         o = a/math.tan(angle)\n",
    "    #     else:\n",
    "    #         a = o*math.tan(angle)\n",
    "    print(f\"a={a}, o={o}, h={h}\")\n",
    "    \n",
    "def minutes_to_degrees(d,m,s):\n",
    "    print(d+(m/60)+(s/3600))\n",
    "\n",
    "def degrees_to_minutes(d):\n",
    "    minute, degree = math.modf(d)\n",
    "    minute = minute*60\n",
    "    second, minute = math.modf(minute)\n",
    "    second = round(second*60)\n",
    "    print(f\"{int(degree)}{chr(176)}{int(minute)}'{round(second)}\\\"\")\n",
    "\n",
    "def thirty_sixty_ninety(x,slh):\n",
    "    if slh == \"short\":\n",
    "        s = x\n",
    "        l = f\"{x}sqrt(3)\"\n",
    "        h = 2*x\n",
    "    elif slh == \"long\":\n",
    "        s = f\"{x}/sqrt(3)\"\n",
    "        if x % 3 == 0:\n",
    "            f\"{int(x/3)}sqrt(3)\"\n",
    "        l = x\n",
    "        h = f\"{int(2*x)}/sqrt(3)\"\n",
    "        if (2*x) % 3 == 0:\n",
    "            h = f\"{int((2*x)/3)}sqrt(3)\"\n",
    "    elif slh == \"hyp\":\n",
    "        s = (x/2)\n",
    "        l = f\"{x}sqrt(3)/2\"\n",
    "        if x % 2 == 0:\n",
    "            l = f\"{int(x/2)}sqrt(3)\"\n",
    "        h = x\n",
    "    print(f\"short = {s}, long = {l}, hyp={h}\")\n",
    "\n",
    "\n",
    "def fourty_fiver(x,sh):\n",
    "    if sh == \"short\":\n",
    "        s = x\n",
    "        h = f\"{x} sqrt(2)\"\n",
    "    elif sh == \"hyp\":\n",
    "        h = x\n",
    "        s = f\"{x}/sqrt(2)\"\n",
    "        if x % 2 == 0:\n",
    "            s = f\"{int(x/2)}sqrt(2)\"\n",
    "    print(f\"short = {s}, hyp={h}\")\n",
    "\n",
    "def sector_area(radius,radian,area) -> float:\n",
    "    if not type(area) == float:\n",
    "        area = (1/2)*(radius**2)*(radian)\n",
    "    elif not type(radian) == float:\n",
    "        radian = area/((1/2)*(radius**2))\n",
    "    else:\n",
    "        radius = (area/((1/2)*radian))**(1/2)\n",
    "    print(f\"radius = {radius}, radian = {radian}, area = {area}\")"
   ]
  },
  {
   "cell_type": "code",
   "execution_count": 41,
   "metadata": {},
   "outputs": [
    {
     "name": "stdout",
     "output_type": "stream",
     "text": [
      "radius = 5.2, radian = 3.6, area = 48.672000000000004\n"
     ]
    }
   ],
   "source": [
    "sector_area(5.2,3.6,\"\")"
   ]
  },
  {
   "cell_type": "code",
   "execution_count": 30,
   "metadata": {},
   "outputs": [
    {
     "name": "stdout",
     "output_type": "stream",
     "text": [
      "1.31\n"
     ]
    }
   ],
   "source": [
    "degree_to_rad(75)"
   ]
  },
  {
   "cell_type": "code",
   "execution_count": 39,
   "metadata": {},
   "outputs": [
    {
     "data": {
      "text/plain": [
       "4.1887902047863905"
      ]
     },
     "execution_count": 39,
     "metadata": {},
     "output_type": "execute_result"
    }
   ],
   "source": [
    "(4*math.pi)/3"
   ]
  },
  {
   "cell_type": "code",
   "execution_count": 107,
   "metadata": {},
   "outputs": [
    {
     "data": {
      "text/plain": [
       "(4, 'sqrt(65)', 9)"
      ]
     },
     "execution_count": 107,
     "metadata": {},
     "output_type": "execute_result"
    }
   ],
   "source": [
    "triangle_pythag(4,\"\",9)"
   ]
  },
  {
   "cell_type": "code",
   "execution_count": 125,
   "metadata": {},
   "outputs": [
    {
     "name": "stdout",
     "output_type": "stream",
     "text": [
      "a=9.351417404402465, o=, h=13\n"
     ]
    }
   ],
   "source": [
    "triangle_one_side(44,13,\"h\",\"cah\")"
   ]
  },
  {
   "cell_type": "code",
   "execution_count": 111,
   "metadata": {},
   "outputs": [
    {
     "name": "stdout",
     "output_type": "stream",
     "text": [
      "321°27'25\"\n"
     ]
    }
   ],
   "source": [
    "degrees_to_minutes(321.457)"
   ]
  },
  {
   "cell_type": "code",
   "execution_count": 112,
   "metadata": {},
   "outputs": [
    {
     "name": "stdout",
     "output_type": "stream",
     "text": [
      "66.32\n"
     ]
    }
   ],
   "source": [
    "rad_to_degree((7*math.pi)/19)"
   ]
  },
  {
   "cell_type": "code",
   "execution_count": 113,
   "metadata": {},
   "outputs": [
    {
     "data": {
      "text/plain": [
       "35"
      ]
     },
     "execution_count": 113,
     "metadata": {},
     "output_type": "execute_result"
    }
   ],
   "source": [
    "755 % 360"
   ]
  },
  {
   "cell_type": "code",
   "execution_count": 114,
   "metadata": {},
   "outputs": [
    {
     "data": {
      "text/plain": [
       "0.7000000000000002"
      ]
     },
     "execution_count": 114,
     "metadata": {},
     "output_type": "execute_result"
    }
   ],
   "source": [
    "27/10 % 2"
   ]
  },
  {
   "cell_type": "code",
   "execution_count": 122,
   "metadata": {},
   "outputs": [
    {
     "data": {
      "text/plain": [
       "Fraction(5, 12)"
      ]
     },
     "execution_count": 122,
     "metadata": {},
     "output_type": "execute_result"
    }
   ],
   "source": [
    "Fraction(1-(7/12)).limit_denominator()"
   ]
  },
  {
   "cell_type": "code",
   "execution_count": 126,
   "metadata": {},
   "outputs": [
    {
     "data": {
      "text/plain": [
       "46"
      ]
     },
     "execution_count": 126,
     "metadata": {},
     "output_type": "execute_result"
    }
   ],
   "source": [
    "90-44"
   ]
  },
  {
   "cell_type": "code",
   "execution_count": 119,
   "metadata": {},
   "outputs": [
    {
     "data": {
      "text/plain": [
       "-0.75"
      ]
     },
     "execution_count": 119,
     "metadata": {},
     "output_type": "execute_result"
    }
   ],
   "source": [
    "1-(7/4)"
   ]
  },
  {
   "cell_type": "code",
   "execution_count": 120,
   "metadata": {},
   "outputs": [
    {
     "data": {
      "text/plain": [
       "0.25"
      ]
     },
     "execution_count": 120,
     "metadata": {},
     "output_type": "execute_result"
    }
   ],
   "source": [
    "2-(7/4)"
   ]
  },
  {
   "cell_type": "code",
   "execution_count": 121,
   "metadata": {},
   "outputs": [
    {
     "data": {
      "text/plain": [
       "0.41666666666666663"
      ]
     },
     "execution_count": 121,
     "metadata": {},
     "output_type": "execute_result"
    }
   ],
   "source": [
    "1-(7/12)"
   ]
  },
  {
   "cell_type": "code",
   "execution_count": null,
   "metadata": {},
   "outputs": [],
   "source": []
  }
 ],
 "metadata": {
  "interpreter": {
   "hash": "916dbcbb3f70747c44a77c7bcd40155683ae19c65e1c03b4aa3499c5328201f1"
  },
  "kernelspec": {
   "display_name": "Python 3.8.10 64-bit",
   "language": "python",
   "name": "python3"
  },
  "language_info": {
   "codemirror_mode": {
    "name": "ipython",
    "version": 3
   },
   "file_extension": ".py",
   "mimetype": "text/x-python",
   "name": "python",
   "nbconvert_exporter": "python",
   "pygments_lexer": "ipython3",
   "version": "3.8.10"
  },
  "orig_nbformat": 4
 },
 "nbformat": 4,
 "nbformat_minor": 2
}
