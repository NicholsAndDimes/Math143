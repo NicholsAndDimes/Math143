{
 "cells": [
  {
   "cell_type": "code",
   "execution_count": 1,
   "metadata": {},
   "outputs": [],
   "source": [
    "import math\n",
    "from fractions import Fraction\n",
    "import re\n",
    "\n",
    "circle_json = {\n",
    "    \"degree\":{\n",
    "        0:{\n",
    "            \"coords\":\"(1,0)\",\n",
    "            \"radian\":\"0\",\n",
    "            \"sin\":\"0\",\n",
    "            \"cos\":\"1\",\n",
    "        },\n",
    "        30:{\n",
    "            \"coords\":\"(sqrt(3)/2,1/2)\",\n",
    "            \"radian\":\"pi/6\",\n",
    "            \"sin\":\"1/2\",\n",
    "            \"cos\":\"sqrt(3)/2\",\n",
    "        },\n",
    "        45:{\n",
    "            \"coords\":\"(sqrt(2)/2,sqrt(2)/2)\",\n",
    "            \"radian\":\"pi/4\",\n",
    "            \"sin\":\"sqrt(2)/2\",\n",
    "            \"cos\":\"sqrt(2)/2\",\n",
    "        },\n",
    "        60:{\n",
    "            \"coords\":\"(1/2,sqrt(3)/2)\",\n",
    "            \"radian\":\"pi/3\",\n",
    "            \"sin\":\"sqrt(3)/2\",\n",
    "            \"cos\":\"1/2\",\n",
    "        },\n",
    "        90:{\n",
    "            \"coords\":\"(0,1)\",\n",
    "            \"radian\":\"pi/2\",\n",
    "            \"sin\":\"1\",\n",
    "            \"cos\":\"0\",\n",
    "        },\n",
    "        120:{\n",
    "            \"coords\":\"(-1/2,sqrt(3)/2)\",\n",
    "            \"radian\":\"2pi/3\",\n",
    "            \"sin\":\"sqrt(3)/2\",\n",
    "            \"cos\":\"-1/2\",\n",
    "        },\n",
    "        135:{\n",
    "            \"coords\":\"(-sqrt(2)/2,sqrt(2)/2)\",\n",
    "            \"radian\":\"3pi/4\",\n",
    "            \"sin\":\"sqrt(2)/2\",\n",
    "            \"cos\":\"-sqrt(2)/2\",\n",
    "        },\n",
    "        150:{\n",
    "            \"coords\":\"(-sqrt(3)/2,1/2)\",\n",
    "            \"radian\":\"5pi/6\",\n",
    "            \"sin\":\"1/2\",\n",
    "            \"cos\":\"-sqrt(3)/2\",\n",
    "        },\n",
    "        180:{\n",
    "            \"coords\":\"(-1,0)\",\n",
    "            \"radian\":\"pi\",\n",
    "            \"sin\":\"0\",\n",
    "            \"cos\":\"-1\",\n",
    "        },\n",
    "        210:{\n",
    "            \"coords\":\"(-sqrt(3)/2,-1/2)\",\n",
    "            \"radian\":\"7pi/6\",\n",
    "            \"sin\":\"-1/2\",\n",
    "            \"cos\":\"-sqrt(3)/2\",\n",
    "        },\n",
    "        225:{\n",
    "            \"coords\":\"(-sqrt(2)/2,-sqrt(2)/2)\",\n",
    "            \"radian\":\"5pi/4\",\n",
    "            \"sin\":\"-sqrt(2)/2\",\n",
    "            \"cos\":\"-sqrt(2)/2\",\n",
    "        },\n",
    "        240:{\n",
    "            \"coords\":\"(-1/2,-sqrt(3)/2)\",\n",
    "            \"radian\":\"4pi/3\",\n",
    "            \"sin\":\"-sqrt(3)/2\",\n",
    "            \"cos\":\"-1/2\",\n",
    "        },\n",
    "        270:{\n",
    "            \"coords\":\"(0,-1)\",\n",
    "            \"radian\":\"3pi/2\",\n",
    "            \"sin\":\"-1\",\n",
    "            \"cos\":\"0\",\n",
    "        },\n",
    "        300:{\n",
    "            \"coords\":\"(1/2,-sqrt(3)/2)\",\n",
    "            \"radian\":\"5pi/3\",\n",
    "            \"sin\":\"-sqrt(3)/2\",\n",
    "            \"cos\":\"1/2\",\n",
    "        },\n",
    "        315:{\n",
    "            \"coords\":\"(sqrt(2)/2,-sqrt(2)/2)\",\n",
    "            \"radian\":\"7pi/4\",\n",
    "            \"sin\":\"-sqrt(2)/2\",\n",
    "            \"cos\":\"sqrt(2)/2\",\n",
    "        },\n",
    "        330:{\n",
    "            \"coords\":\"(sqrt(3)/2,-1/2)\",\n",
    "            \"radian\":\"11pi/6\",\n",
    "            \"sin\":\"-1/2\",\n",
    "            \"cos\":\"sqrt(3)/2\",\n",
    "        }\n",
    "    }\n",
    "}"
   ]
  },
  {
   "cell_type": "code",
   "execution_count": 1,
   "metadata": {},
   "outputs": [
    {
     "data": {
      "text/plain": [
       "30.0"
      ]
     },
     "execution_count": 1,
     "metadata": {},
     "output_type": "execute_result"
    }
   ],
   "source": [
    "360/12"
   ]
  },
  {
   "cell_type": "code",
   "execution_count": 6,
   "metadata": {},
   "outputs": [
    {
     "data": {
      "text/plain": [
       "{'coords': '(-sqrt(2)/2,-sqrt(2)/2)',\n",
       " 'radian': '5pi/4',\n",
       " 'sin': '-sqrt(2)/2',\n",
       " 'cos': '-sqrt(2)/2'}"
      ]
     },
     "execution_count": 6,
     "metadata": {},
     "output_type": "execute_result"
    }
   ],
   "source": [
    "circle_json['degree'][225]"
   ]
  },
  {
   "cell_type": "code",
   "execution_count": 91,
   "metadata": {},
   "outputs": [],
   "source": [
    "def rad_to_degree(rad):\n",
    "    degree = round((180/math.pi)*rad,2)\n",
    "    print(degree)\n",
    "\n",
    "def degree_to_rad(degree):\n",
    "    rad = round((math.pi/180)*degree,2)\n",
    "    print(rad)\n",
    "\n",
    "def triangle(a,b,hyp=True):\n",
    "    if hyp:\n",
    "        c = (b**2)-(a**2)\n",
    "    else:\n",
    "        c = (b**2)+(a**2)\n",
    "    d = simplify_sqrt(c)\n",
    "    print(d)\n",
    "    \n",
    "def simplify_sqrt(x):\n",
    "    a = f\"sqrt({x})\"\n",
    "    b = float(x**(1/2))\n",
    "    if b.is_integer():\n",
    "        a = int(b)\n",
    "    if not type(a) == int:\n",
    "        for i in range(x,1,-1):\n",
    "            if x % i == 0:\n",
    "                c = i**(1/2)\n",
    "                if c.is_integer():\n",
    "                    a = f\"{int(c)} sqrt({int(x/c)})\"      \n",
    "    return a"
   ]
  },
  {
   "cell_type": "code",
   "execution_count": 68,
   "metadata": {},
   "outputs": [
    {
     "name": "stdout",
     "output_type": "stream",
     "text": [
      "12\n",
      "8\n",
      "6\n",
      "4\n",
      "answer=2.0\n",
      "2 sqrt(12)\n"
     ]
    }
   ],
   "source": [
    "c = 24\n",
    "for i in range(c-1,2,-1):\n",
    "    if c % i == 0:\n",
    "        print(i)\n",
    "        if (i**(1/2)).is_integer():\n",
    "            print(f\"answer={i**(1/2)}\")\n",
    "            break\n",
    "print(f\"{int(i**(1/2))} sqrt({int(c/(i**(1/2)))})\")"
   ]
  },
  {
   "cell_type": "code",
   "execution_count": 87,
   "metadata": {},
   "outputs": [
    {
     "data": {
      "text/plain": [
       "'sqrt(58)'"
      ]
     },
     "execution_count": 87,
     "metadata": {},
     "output_type": "execute_result"
    }
   ],
   "source": [
    "simplify_sqrt(58)"
   ]
  },
  {
   "cell_type": "code",
   "execution_count": 92,
   "metadata": {},
   "outputs": [
    {
     "name": "stdout",
     "output_type": "stream",
     "text": [
      "sqrt(58)\n"
     ]
    }
   ],
   "source": [
    "triangle(3,7,False)"
   ]
  },
  {
   "cell_type": "code",
   "execution_count": 90,
   "metadata": {},
   "outputs": [
    {
     "data": {
      "text/plain": [
       "7"
      ]
     },
     "execution_count": 90,
     "metadata": {},
     "output_type": "execute_result"
    }
   ],
   "source": [
    "7"
   ]
  },
  {
   "cell_type": "code",
   "execution_count": 48,
   "metadata": {},
   "outputs": [
    {
     "data": {
      "text/plain": [
       "142"
      ]
     },
     "execution_count": 48,
     "metadata": {},
     "output_type": "execute_result"
    }
   ],
   "source": [
    "-218 % 360"
   ]
  },
  {
   "cell_type": "code",
   "execution_count": 28,
   "metadata": {},
   "outputs": [
    {
     "data": {
      "text/plain": [
       "7.0"
      ]
     },
     "execution_count": 28,
     "metadata": {},
     "output_type": "execute_result"
    }
   ],
   "source": [
    "float(7)"
   ]
  },
  {
   "cell_type": "code",
   "execution_count": 29,
   "metadata": {},
   "outputs": [
    {
     "data": {
      "text/plain": [
       "7.1"
      ]
     },
     "execution_count": 29,
     "metadata": {},
     "output_type": "execute_result"
    }
   ],
   "source": [
    "float(7.1)"
   ]
  },
  {
   "cell_type": "code",
   "execution_count": 30,
   "metadata": {},
   "outputs": [
    {
     "data": {
      "text/plain": [
       "7"
      ]
     },
     "execution_count": 30,
     "metadata": {},
     "output_type": "execute_result"
    }
   ],
   "source": [
    "int(7.1)"
   ]
  },
  {
   "cell_type": "code",
   "execution_count": null,
   "metadata": {},
   "outputs": [],
   "source": []
  }
 ],
 "metadata": {
  "interpreter": {
   "hash": "916dbcbb3f70747c44a77c7bcd40155683ae19c65e1c03b4aa3499c5328201f1"
  },
  "kernelspec": {
   "display_name": "Python 3.8.10 64-bit",
   "language": "python",
   "name": "python3"
  },
  "language_info": {
   "codemirror_mode": {
    "name": "ipython",
    "version": 3
   },
   "file_extension": ".py",
   "mimetype": "text/x-python",
   "name": "python",
   "nbconvert_exporter": "python",
   "pygments_lexer": "ipython3",
   "version": "3.8.10"
  },
  "orig_nbformat": 4
 },
 "nbformat": 4,
 "nbformat_minor": 2
}
