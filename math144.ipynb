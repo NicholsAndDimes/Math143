{
 "cells": [
  {
   "cell_type": "code",
   "execution_count": 637,
   "metadata": {},
   "outputs": [],
   "source": [
    "import math\n",
    "from fractions import Fraction\n",
    "import re\n",
    "import json\n",
    "\n",
    "circle_json = {\n",
    "    0:{\n",
    "        \"coords\":\"(1,0)\",\n",
    "        \"radian\":\"0\",\n",
    "        \"sin\":\"0\",\n",
    "        \"cos\":\"1\",\n",
    "        \"tan\":\"0\",\n",
    "        \"csc\":\"undefined\",\n",
    "        \"sec\":\"1\",\n",
    "        \"cot\":\"undefined\"\n",
    "    },\n",
    "    30:{\n",
    "        \"coords\":\"(sqrt(3)/2,1/2)\",\n",
    "        \"radian\":\"pi/6\",\n",
    "        \"sin\":\"1/2\",\n",
    "        \"cos\":\"sqrt(3)/2\",\n",
    "        \"tan\":\"1/sqrt(3)\",\n",
    "        \"csc\":\"2\",\n",
    "        \"sec\":\"2/sqrt(3)\",\n",
    "        \"cot\":\"sqrt(3)\"\n",
    "    },\n",
    "    45:{\n",
    "        \"coords\":\"(sqrt(2)/2,sqrt(2)/2)\",\n",
    "        \"radian\":\"pi/4\",\n",
    "        \"sin\":\"sqrt(2)/2\",\n",
    "        \"cos\":\"sqrt(2)/2\",\n",
    "        \"tan\":\"1\",\n",
    "        \"csc\":\"sqrt(2)\",\n",
    "        \"sec\":\"sqrt(2)\",\n",
    "        \"cot\":\"1\"\n",
    "    },\n",
    "    60:{\n",
    "        \"coords\":\"(1/2,sqrt(3)/2)\",\n",
    "        \"radian\":\"pi/3\",\n",
    "        \"sin\":\"sqrt(3)/2\",\n",
    "        \"cos\":\"1/2\",\n",
    "        \"tan\":\"sqrt(3)\",\n",
    "        \"csc\":\"2 sqrt(3)/3\",\n",
    "        \"sec\":\"2\",\n",
    "        \"cot\":\"1/sqrt(3)\"\n",
    "    },\n",
    "    90:{\n",
    "        \"coords\":\"(0,1)\",\n",
    "        \"radian\":\"pi/2\",\n",
    "        \"sin\":\"1\",\n",
    "        \"cos\":\"0\",\n",
    "        \"tan\":\"undefined\",\n",
    "        \"csc\":\"1\",\n",
    "        \"sec\":\"undefined\",\n",
    "        \"cot\":\"0\"\n",
    "    },\n",
    "    120:{\n",
    "        \"coords\":\"(-1/2,sqrt(3)/2)\",\n",
    "        \"radian\":\"2pi/3\",\n",
    "        \"sin\":\"sqrt(3)/2\",\n",
    "        \"cos\":\"-1/2\",\n",
    "        \"tan\":\"-sqrt(3)\",\n",
    "        \"csc\":\"2 sqrt(3)/3\",\n",
    "        \"sec\":\"-2\",\n",
    "        \"cot\":\"-1/sqrt(3)\"\n",
    "    },\n",
    "    135:{\n",
    "        \"coords\":\"(-sqrt(2)/2,sqrt(2)/2)\",\n",
    "        \"radian\":\"3pi/4\",\n",
    "        \"sin\":\"sqrt(2)/2\",\n",
    "        \"cos\":\"-sqrt(2)/2\",\n",
    "        \"tan\":\"-1\",\n",
    "        \"csc\":\"sqrt(2)\",\n",
    "        \"sec\":\"-sqrt(2)\",\n",
    "        \"cot\":\"-1\"\n",
    "    },\n",
    "    150:{\n",
    "        \"coords\":\"(-sqrt(3)/2,1/2)\",\n",
    "        \"radian\":\"5pi/6\",\n",
    "        \"sin\":\"1/2\",\n",
    "        \"cos\":\"-sqrt(3)/2\",\n",
    "        \"tan\":\"-1/sqrt(3)\",\n",
    "        \"csc\":\"2\",\n",
    "        \"sec\":\"-2/sqrt(3)\",\n",
    "        \"cot\":\"-sqrt(3)\"\n",
    "    },\n",
    "    180:{\n",
    "        \"coords\":\"(-1,0)\",\n",
    "        \"radian\":\"pi\",\n",
    "        \"sin\":\"0\",\n",
    "        \"cos\":\"-1\",\n",
    "        \"tan\":\"0\",\n",
    "        \"csc\":\"undefined\",\n",
    "        \"sec\":\"-1\",\n",
    "        \"cot\":\"undefined\"\n",
    "    },\n",
    "    210:{\n",
    "        \"coords\":\"(-sqrt(3)/2,-1/2)\",\n",
    "        \"radian\":\"7pi/6\",\n",
    "        \"sin\":\"-1/2\",\n",
    "        \"cos\":\"-sqrt(3)/2\",\n",
    "        \"tan\":\"1/sqrt(3)\",\n",
    "        \"csc\":\"-2\",\n",
    "        \"sec\":\"-2/sqrt(3)\",\n",
    "        \"cot\":\"sqrt(3)\"\n",
    "    },\n",
    "    225:{\n",
    "        \"coords\":\"(-sqrt(2)/2,-sqrt(2)/2)\",\n",
    "        \"radian\":\"5pi/4\",\n",
    "        \"sin\":\"-sqrt(2)/2\",\n",
    "        \"cos\":\"-sqrt(2)/2\",\n",
    "        \"tan\":\"1\",\n",
    "        \"csc\":\"-sqrt(2)\",\n",
    "        \"sec\":\"-2/sqrt(2)\",\n",
    "        \"cot\":\"1\"\n",
    "    },\n",
    "    240:{\n",
    "        \"coords\":\"(-1/2,-sqrt(3)/2)\",\n",
    "        \"radian\":\"4pi/3\",\n",
    "        \"sin\":\"-sqrt(3)/2\",\n",
    "        \"cos\":\"-1/2\",\n",
    "        \"tan\":\"sqrt(3)\",\n",
    "        \"csc\":\"-2 sqrt(3)/3\",\n",
    "        \"sec\":\"-2\",\n",
    "        \"cot\":\"1/sqrt(3)\"\n",
    "    },\n",
    "    270:{\n",
    "        \"coords\":\"(0,-1)\",\n",
    "        \"radian\":\"3pi/2\",\n",
    "        \"sin\":\"-1\",\n",
    "        \"cos\":\"0\",\n",
    "        \"tan\":\"undefined\",\n",
    "        \"csc\":\"-1\",\n",
    "        \"sec\":\"undefined\",\n",
    "        \"cot\":\"0\"\n",
    "    },\n",
    "    300:{\n",
    "        \"coords\":\"(1/2,-sqrt(3)/2)\",\n",
    "        \"radian\":\"5pi/3\",\n",
    "        \"sin\":\"-sqrt(3)/2\",\n",
    "        \"cos\":\"1/2\",\n",
    "        \"tan\":\"-sqrt(3)\",\n",
    "        \"csc\":\"-2 sqrt(3)/3\",\n",
    "        \"sec\":\"2\",\n",
    "        \"cot\":\"-1/sqrt(3)\"\n",
    "    },\n",
    "    315:{\n",
    "        \"coords\":\"(sqrt(2)/2,-sqrt(2)/2)\",\n",
    "        \"radian\":\"7pi/4\",\n",
    "        \"sin\":\"-sqrt(2)/2\",\n",
    "        \"cos\":\"sqrt(2)/2\",\n",
    "        \"tan\":\"-1\",\n",
    "        \"csc\":\"-sqrt(2)\",\n",
    "        \"sec\":\"2/sqrt(2)\",\n",
    "        \"cot\":\"-1\"\n",
    "    },\n",
    "    330:{\n",
    "        \"coords\":\"(sqrt(3)/2,-1/2)\",\n",
    "        \"radian\":\"11pi/6\",\n",
    "        \"sin\":\"-1/2\",\n",
    "        \"cos\":\"sqrt(3)/2\",\n",
    "        \"tan\":\"-1/sqrt(3)\",\n",
    "        \"csc\":\"-2\",\n",
    "        \"sec\":\"2/sqrt(3)\",\n",
    "        \"cot\":\"-sqrt(3)\"\n",
    "    }\n",
    "}\n",
    "\n",
    "\n",
    "def circle_lookup(subtype, target):\n",
    "    answers = []\n",
    "    for angle, results in circle_json.items():\n",
    "        if results[subtype] == target:\n",
    "\n",
    "            answers.append((angle, circle_json[angle]))\n",
    "\n",
    "    return answers\n",
    "\n",
    "\n",
    "def rad_to_degree(rad):\n",
    "    degree = round((180/math.pi)*rad,3)\n",
    "    print(degree)\n",
    "\n",
    "\n",
    "def degree_to_rad(degree):\n",
    "    rad = round((math.pi/180)*degree,3)\n",
    "    pi_frac = Fraction(degree/180).limit_denominator()\n",
    "    print(rad)\n",
    "    print(f\"{pi_frac.numerator}pi/{pi_frac.denominator}\")\n",
    "    \n",
    "    return (pi_frac.numerator*math.pi)/pi_frac.denominator\n",
    "\n",
    "\n",
    "def triangle_pythag(a,b,c):\n",
    "    if type(c) == int:\n",
    "        if type(a) == int:\n",
    "            b = simplify_sqrt((c**2)-(a**2))\n",
    "        else:\n",
    "            a = simplify_sqrt((c**2)-(b**2))\n",
    "    else:\n",
    "        c = simplify_sqrt((b**2)+(a**2))\n",
    "    return a,b,c\n",
    "\n",
    "\n",
    "def simplify_sqrt(x):\n",
    "    a = f\"sqrt({x})\"\n",
    "    b = float(x**(1/2))\n",
    "    if b.is_integer():\n",
    "        a = int(b)\n",
    "    if not type(a) == int:\n",
    "        for i in range(x,1,-1):\n",
    "            if x % i == 0:\n",
    "                c = i**(1/2)\n",
    "                if c.is_integer():\n",
    "                    a = f\"{int(c)} sqrt({int((x/c)**(1/2))})\"\n",
    "                    break\n",
    "    return a\n",
    "\n",
    "\n",
    "def notes():\n",
    "    print(\n",
    "        \"soh cah toa csc,ho sec,ha, cot,ao\\n\\\n",
    "        \\rsin=y/r cos=x/r tan=y/x csc=r/y sec=r/x cot=x/y -- (r)adius is typically 1\\n\\\n",
    "        \\rcos(x+y)=cosxcosy-sinxsiny sin(x+y)=sinxcosy+cosxsiny\\n\\\n",
    "        \\rtan(x+y)=(tanx+tany)/1-tanxtany\\n\\\n",
    "        \\rradian * radius = arc length\\n\\\n",
    "        \\rd + a cos|sin (bx + c), frequency = b/2pi, period = 2pi/b\\n\\\n",
    "        \\rphaseshift = -c/b, max amplitude = d+|a|, min amplitude = d-|a|\\n\\\n",
    "        \\rarcsin quad1/4, arccos quad1/2, arctan quad1/4\\n\\\n",
    "        \\rsin 2x = 2 sin x cos x, tan 2x = (2 tan x)/(1 - tan^2 x)\\n\\\n",
    "        \\rcos 2x = cos^2 x - sin^2 x = 1 - 2 sin^2 x = 2 cos^2 x-1\"\n",
    "    )\n",
    "\n",
    "\n",
    "def triangle_one_side(angle, side_length, aoh, sohcahtoa):\n",
    "    angle = math.radians(angle)\n",
    "    a = \"\"\n",
    "    o = \"\"\n",
    "    h = \"\"\n",
    "    if aoh == \"a\":\n",
    "        a = side_length\n",
    "    elif aoh == \"o\":\n",
    "        o = side_length\n",
    "    elif aoh == \"h\":\n",
    "        h = side_length\n",
    "    if sohcahtoa == \"soh\":\n",
    "        if type(o) == int:\n",
    "            h = o/math.sin(angle)\n",
    "        else:\n",
    "            o = h*math.sin(angle)\n",
    "    elif sohcahtoa == \"cah\":\n",
    "        if type(a) == int:\n",
    "            h = a/math.cos(angle)\n",
    "        else:\n",
    "            a = h*math.cos(angle)\n",
    "    elif sohcahtoa == \"toa\":\n",
    "        if type(o) == int:\n",
    "            a = o/math.tan(angle)\n",
    "        else:\n",
    "            o = a*math.tan(angle)\n",
    "    print(f\"a={a}, o={o}, h={h}\")\n",
    "\n",
    "\n",
    "\n",
    "def minutes_to_seconds(days,minutes,seconds):\n",
    "    print(days+(minutes/60)+(seconds/3600))\n",
    "\n",
    "    return\n",
    "\n",
    "\n",
    "def degrees_to_minutes(d):\n",
    "    minute, degree = math.modf(d)\n",
    "    minute = minute*60\n",
    "    second, minute = math.modf(minute)\n",
    "    second = round(second*60)\n",
    "    print(f\"{int(degree)}{chr(176)}{int(minute)}'{round(second)}\\\"\")\n",
    "\n",
    "\n",
    "def thirty_sixty_ninety(x,slh):\n",
    "    if slh == \"short\":\n",
    "        s = x\n",
    "        l = f\"{x}sqrt(3)\"\n",
    "        h = 2*x\n",
    "    elif slh == \"long\":\n",
    "        s = f\"{x}/sqrt(3)\"\n",
    "        if x % 3 == 0:\n",
    "            f\"{int(x/3)}sqrt(3)\"\n",
    "        l = x\n",
    "        h = f\"{int(2*x)}sqrt(3)/3\"\n",
    "        if (2*x) % 3 == 0:\n",
    "            h = f\"{int((2*x)/3)}sqrt(3)\"\n",
    "    elif slh == \"hyp\":\n",
    "        s = (x/2)\n",
    "        l = f\"{x}sqrt(3)/2\"\n",
    "        if x % 2 == 0:\n",
    "            l = f\"{int(x/2)}sqrt(3)\"\n",
    "        h = x\n",
    "    print(f\"short = {s}, long = {l}, hyp={h}\")\n",
    "\n",
    "\n",
    "def fourty_fiver(x,sh):\n",
    "    if sh == \"short\":\n",
    "        s = x\n",
    "        h = f\"{x} sqrt(2)\"\n",
    "    elif sh == \"hyp\":\n",
    "        h = x\n",
    "        s = f\"{x}/sqrt(2)\"\n",
    "        if x % 2 == 0:\n",
    "            s = f\"{int(x/2)}sqrt(2)\"\n",
    "    print(f\"short = {s}, hyp={h}\")\n",
    "\n",
    "\n",
    "def sector_area(radius,radian,area) -> float:\n",
    "    if not type(area) == float:\n",
    "        area = (1/2)*(radius**2)*(radian)\n",
    "    elif not type(radian) == float:\n",
    "        radian = area/((1/2)*(radius**2))\n",
    "    else:\n",
    "        radius = (area/((1/2)*radian))**(1/2)\n",
    "    print(f\"radius = {radius}, radian = {radian}, area = {area}\")\n",
    "\n",
    "\n",
    "def x_or_y_with_radius(xy,radius):\n",
    "    a = (radius*radius)-(xy*xy)\n",
    "    if math.sqrt(a) % 1 == 0:\n",
    "        return math.sqrt(a)\n",
    "    else:\n",
    "        return f\"sqrt({a})\"\n",
    "\n",
    "\n",
    "quadrants = {\n",
    "        \"quad1\":{\n",
    "            \"all > 0\"\n",
    "        },\n",
    "        \"quad2\":{\n",
    "            \"cos < 0\",\n",
    "            \"sin > 0\",\n",
    "            \"tan < 0\",\n",
    "            \"sec < 0\",\n",
    "            \"csc > 0\",\n",
    "            \"cot > 0\",\n",
    "        },\n",
    "        \"quad3\":{\n",
    "            \"cos < 0\",\n",
    "            \"sin < 0\",\n",
    "            \"tan > 0\",\n",
    "            \"sec < 0\",\n",
    "            \"csc < 0\",\n",
    "            \"cot > 0\",\n",
    "        },\n",
    "        \"quad4\":{\n",
    "            \"cos > 0\",\n",
    "            \"sin < 0\",\n",
    "            \"tan < 0\",\n",
    "            \"sec > 0\",\n",
    "            \"csc < 0\",\n",
    "            \"cot > 0\",\n",
    "        }\n",
    "    }\n",
    "\n",
    "\n",
    "def reference_angle(x,degree=True):\n",
    "    if degree:\n",
    "        a = x % 180\n",
    "        if a > 90:\n",
    "            a = 180-a\n",
    "    else:\n",
    "        b = Fraction(x % 1).limit_denominator()\n",
    "        if b > (1/2):\n",
    "            b = Fraction((b-1)*-1)\n",
    "        a = f\"{b.numerator}pi/{b.denominator}\"\n",
    "    return a\n",
    "\n",
    "\n",
    "def line_distance(coord_a,coord_b):\n",
    "    x1 = coord_a[0]\n",
    "    x2 = coord_b[0]\n",
    "    y1 = coord_a[1]\n",
    "    y2 = coord_b[1]\n",
    "    print(f\"d=sqrt(({x2}-{x1})^2+({y2}-{y1})^2)\")\n",
    "    c = (x2-x1)**2\n",
    "    d = (y2-y1)**2\n",
    "    e = int(round(c+d,5))\n",
    "    print(f\"d=sqrt({c}+{d})\")\n",
    "    print(f\"d=sqrt({e})\")\n",
    "\n",
    "    return simplify_sqrt(e)\n",
    "\n",
    "def circle_xy(coords):\n",
    "    x = coords[0]\n",
    "    y = coords[1]\n",
    "    r = line_distance((0,0),coords)\n",
    "    print(f\"x = {x}, y = {y}, r= {r}\")\n",
    "    \n",
    "    return r\n",
    "\n",
    "\n",
    "def area_non_right_angle(side_a,side_b,angle):\n",
    "    return (1/2)*(side_a)*(side_b)*math.sin(math.radians(angle))\n",
    "\n",
    "def heron(a,b,c):\n",
    "    s = (1/2)*(a+b+c)\n",
    "    square = (s*(s-a)*(s-b)*(s-c))\n",
    "\n",
    "    return math.sqrt(square)\n",
    "\n",
    "def graph_sincostan(y_multiplier,sincostan,x_multiplier,x_modifier):\n",
    "    x_multiplier = Fraction(x_multiplier).limit_denominator()\n",
    "    x_modifier = Fraction(x_modifier).limit_denominator()\n",
    "    y_multiplier = Fraction(y_multiplier).limit_denominator()\n",
    "    print(f\"{y_multiplier}{sincostan}({x_multiplier}x+{x_modifier})\")\n",
    "    key_points = [0,Fraction(1/2).limit_denominator(),1,Fraction(3/2).limit_denominator(),2]\n",
    "    if sincostan == \"tan\":\n",
    "        key_points = [Fraction(-1/2).limit_denominator(),Fraction(-1/4).limit_denominator(),0,Fraction(1/4).limit_denominator(),Fraction(1/2).limit_denominator()]\n",
    "        asymptote = [0,4]\n",
    "        up = [3]\n",
    "        zero = [2]\n",
    "        down = [1]\n",
    "    elif sincostan == \"sin\":\n",
    "        up = [1]\n",
    "        down = [3]\n",
    "        zero = [0,2,4]\n",
    "    elif sincostan == \"cos\":\n",
    "        up = [0,4]\n",
    "        down = [2]\n",
    "        zero = [1,3]\n",
    "    run = 0\n",
    "    for point in key_points:\n",
    "        if run in zero:\n",
    "            y = 0\n",
    "        elif run in up:\n",
    "            y = y_multiplier\n",
    "        elif run in down:\n",
    "            y = y_multiplier*-1\n",
    "        elif run in asymptote:\n",
    "            y = \"asymptote\"\n",
    "        print(f\"({(x_multiplier**-1)*(point+(x_modifier*-1))} pi, {y})\")\n",
    "        run += 1\n",
    "\n",
    "\n",
    "def full_period_frequency(d,a,b,c):\n",
    "    print(f\"frequency={b/(2*math.pi)}\")\n",
    "    print(f\"period={(2*math.pi)/b}\")\n",
    "    print(f\"phase shift={-c/b}\")\n",
    "    print(f\"amplitude={abs(a)}\")\n",
    "    print(f\"max amp={d+abs(a)}\")\n",
    "    print(f\"min amp={d-abs(a)}\")\n",
    "\n",
    "\n",
    "def sum_and_difference(sincostan,fraction):\n",
    "    base = Fraction(fraction).limit_denominator()\n",
    "    if base.numerator % 2 == 0:\n",
    "        base_a = base.numerator/2\n",
    "        base_b = base.numerator/2\n",
    "    else:\n",
    "        base_a = int(base.numerator/2)\n",
    "        base_b = int(base.numerator/2)+1\n",
    "    a = Fraction(base_a/base.denominator).limit_denominator()\n",
    "    b = Fraction(base_b/base.denominator).limit_denominator()\n",
    "    print(a,b)\n",
    "       \n",
    "def law_of_sines(A,B,C,a,b,c):\n",
    "    if type(A) and type(a) == float:\n",
    "        method = \"A\"\n",
    "    if type(B) and type(b) == float:\n",
    "        method = \"B\"\n",
    "    if type(C) and type(c) == float:\n",
    "        method = \"C\"\n",
    "    sides = [a,b,c]\n",
    "    angles = [A,B,C]\n",
    "    remaining = 180\n",
    "    for angle in angles:\n",
    "        if type(angle) == float:\n",
    "            remaining -= angle\n",
    "    for idx,angle in enumerate(angles):\n",
    "        if type(angle) == str:\n",
    "            angles[idx]=remaining\n",
    "    if method == \"A\":\n",
    "        sides[1] = (sides[0]*math.sin(math.radians(angles[1]))/math.sin(math.radians(angles[0])))\n",
    "        sides[2] = (sides[0]*math.sin(math.radians(angles[2]))/math.sin(math.radians(angles[0])))\n",
    "    if method == \"B\":\n",
    "        sides[0] = (sides[1]*math.sin(math.radians(angles[0]))/math.sin(math.radians(angles[1])))\n",
    "        sides[2] = (sides[1]*math.sin(math.radians(angles[2]))/math.sin(math.radians(angles[1])))\n",
    "    if method == \"C\":\n",
    "        sides[0] = (sides[2]*math.sin(math.radians(angles[0]))/math.sin(math.radians(angles[2])))\n",
    "        sides[1] = (sides[2]*math.sin(math.radians(angles[1]))/math.sin(math.radians(angles[2])))\n",
    "    print(angles,sides)\n",
    "\n",
    "\n",
    "def double_angles(x,y,radius):\n",
    "    sin2x = Fraction(2*(y/radius)*(x/radius)).limit_denominator()\n",
    "    cos2x = Fraction(((x/radius)**2)-((y/radius)**2)).limit_denominator()\n",
    "    tan2x = Fraction((2*(y/x))/(1-((y/x)**2))).limit_denominator()\n",
    "    \n",
    "    return sin2x, cos2x, tan2x\n",
    "\n",
    "def law_of_cosines(a,b,c):\n",
    "    cos_a = math.degrees(math.acos((b**2+c**2-a**2)/(2*b*c)))\n",
    "    cos_b = math.degrees(math.asin((b*math.sin(math.radians(cos_a)))/a))\n",
    "    cos_c = 180-cos_a-cos_b\n",
    "    \n",
    "    return cos_a, cos_b, cos_c\n",
    "\n",
    "def coords_to_polar(coordinates):\n",
    "    r = circle_xy(coordinates)\n",
    "    angle = round(math.degrees(math.atan(coordinates[1]/coordinates[0])),5)\n",
    "    quadrants = {\n",
    "        1:[True,True],\n",
    "        2:[False,True],\n",
    "        3:[False,False],\n",
    "        4:[True,False]\n",
    "    }\n",
    "    xy_bool = [coordinates[0]>0,coordinates[1]>0]\n",
    "    for sector in quadrants.items():\n",
    "        if sector[1] == xy_bool:\n",
    "            print(sector[0],xy_bool,angle)\n",
    "            if sector[0] in [2,3]:\n",
    "                angle += 180\n",
    "\n",
    "    return r, angle\n",
    "\n",
    "def side_angle_opposite(side,angle,opposite):\n",
    "    angle_opposite = (side*math.sin(math.radians(angle)))/opposite\n",
    "    try:\n",
    "        a = [math.degrees(math.asin(angle_opposite))]\n",
    "        print(a[0]+angle)\n",
    "    except ValueError:\n",
    "        print(\"NO SOLUTION\")\n",
    "        return\n",
    "    if (180-a[0])+angle<180:\n",
    "        print(a)\n",
    "        a.append(180-a[0])\n",
    "    for item in a:\n",
    "        last_angle = 180-angle-item\n",
    "        last_side = (opposite*math.sin(math.radians(last_angle)))/math.sin(math.radians(angle))\n",
    "        print(f\"missing angle:{item}, last angle:{last_angle}, last slide:{last_side}\")\n",
    "\n",
    "def angle_angle_middle(angle_a,angle_b,middle):\n",
    "    angle_c = 180-angle_a-angle_b\n",
    "    side_a = (middle*math.sin(math.radians(angle_a)))/math.sin(math.radians(angle_c))\n",
    "    side_b = (middle*math.sin(math.radians(angle_b)))/math.sin(math.radians(angle_c))\n",
    "    print(angle_a,angle_b,angle_c,side_a,side_b,middle)\n",
    "    \n",
    "def angle_two_sides(A,left,right):\n",
    "    a = math.sqrt((right**2)+(left**2)-(2*right*left*math.cos(math.radians(A))))\n",
    "    print(a)\n",
    "\n",
    "def complex_polar(coords):\n",
    "    x = coords[0]\n",
    "    y = coords[1]\n",
    "    r = round(math.sqrt((x**2)+(y**2)),2)\n",
    "    i = math.atan(y/x)\n",
    "    quadrants = {\n",
    "        1:[True,True],\n",
    "        2:[False,True],\n",
    "        3:[False,False],\n",
    "        4:[True,False]\n",
    "    }\n",
    "    xy_bool = [x>0,y>0]\n",
    "    for sector in quadrants.items():\n",
    "        if sector[1] == xy_bool:\n",
    "            if sector[0] in [2,3]:\n",
    "                i += math.pi\n",
    "            if sector[0] == 4:\n",
    "                i += math.pi*2\n",
    "    i = round(i,2)\n",
    "    print(f\"{r}(cos{i}+i sin{i})\")\n",
    "\n",
    "def de_moivre(a,b,c):\n",
    "    print(\"z^n = [r(cosx+isinx)]^n = r^n(cos nx +i sin nx)\")\n",
    "    r2 = round(a**2+b**2,6)\n",
    "    print(f\"r = sqrt({r2})\")\n",
    "    r = simplify_sqrt(r2)\n",
    "    print(f\"radius={r}\")\n",
    "    print(\"find tan in circle lookup\")\n",
    "    print(f\"Fraction(({c}*radian) % 2).limit_denominator()\")\n",
    "    print(\"circle lookup cos, and sin of that radian\")\n",
    "    print(f\"{r}^{c}(cos + i sin)\")\n",
    "\n",
    "\n",
    "def simplify_radians(value):\n",
    "    for idx in (range(1,7)):\n",
    "        check = (value*idx)\n",
    "        if check % math.pi == 0:\n",
    "            print(f\"pi/{idx}\")\n",
    "  "
   ]
  },
  {
   "cell_type": "code",
   "execution_count": 638,
   "metadata": {},
   "outputs": [
    {
     "name": "stdout",
     "output_type": "stream",
     "text": [
      "z^n = [r(cosx+isinx)]^n = r^n(cos nx +i sin nx)\n",
      "r = sqrt(64.0)\n",
      "radius=8\n",
      "find tan in circle lookup\n",
      "Fraction((4*radian) % 2).limit_denominator()\n",
      "circle lookup cos, and sin of that radian\n",
      "8^4(cos + i sin)\n"
     ]
    }
   ],
   "source": [
    "de_moivre(-4*math.sqrt(3),-4,4)"
   ]
  },
  {
   "cell_type": "code",
   "execution_count": 649,
   "metadata": {},
   "outputs": [
    {
     "data": {
      "text/plain": [
       "[(150,\n",
       "  {'coords': '(-sqrt(3)/2,1/2)',\n",
       "   'radian': '5pi/6',\n",
       "   'sin': '1/2',\n",
       "   'cos': '-sqrt(3)/2',\n",
       "   'tan': '-1/sqrt(3)',\n",
       "   'csc': '2',\n",
       "   'sec': '-2/sqrt(3)',\n",
       "   'cot': '-sqrt(3)'}),\n",
       " (330,\n",
       "  {'coords': '(sqrt(3)/2,-1/2)',\n",
       "   'radian': '11pi/6',\n",
       "   'sin': '-1/2',\n",
       "   'cos': 'sqrt(3)/2',\n",
       "   'tan': '-1/sqrt(3)',\n",
       "   'csc': '-2',\n",
       "   'sec': '2/sqrt(3)',\n",
       "   'cot': '-sqrt(3)'})]"
      ]
     },
     "execution_count": 649,
     "metadata": {},
     "output_type": "execute_result"
    }
   ],
   "source": [
    "circle_lookup(\"tan\",\"-1/sqrt(3)\")"
   ]
  },
  {
   "cell_type": "code",
   "execution_count": 646,
   "metadata": {},
   "outputs": [
    {
     "data": {
      "text/plain": [
       "1.0471975511965979"
      ]
     },
     "execution_count": 646,
     "metadata": {},
     "output_type": "execute_result"
    }
   ],
   "source": [
    "math.acos(1/2)"
   ]
  },
  {
   "cell_type": "code",
   "execution_count": 647,
   "metadata": {},
   "outputs": [
    {
     "data": {
      "text/plain": [
       "[]"
      ]
     },
     "execution_count": 647,
     "metadata": {},
     "output_type": "execute_result"
    }
   ],
   "source": [
    "circle_lookup(\"radian\",\"1/2\")"
   ]
  },
  {
   "cell_type": "code",
   "execution_count": 3,
   "metadata": {},
   "outputs": [
    {
     "name": "stdout",
     "output_type": "stream",
     "text": [
      "soh cah toa csc,ho sec,ha, cot,ao\n",
      "        \r",
      "sin=y/r cos=x/r tan=y/x csc=r/y sec=r/x cot=x/y -- (r)adius is typically 1\n",
      "        \r",
      "cos(x+y)=cosxcosy-sinxsiny sin(x+y)=sinxcosy+cosxsiny\n",
      "        \r",
      "tan(x+y)=(tanx+tany)/1-tanxtany\n",
      "        \r",
      "radian * radius = arc length\n",
      "        \r",
      "d + a cos|sin (bx + c), frequency = b/2pi, period = 2pi/b\n",
      "        \r",
      "phaseshift = -c/b, max amplitude = d+|a|, min amplitude = d-|a|\n",
      "        \r",
      "arcsin quad1/4, arccos quad1/2, arctan quad1/4\n",
      "        \r",
      "sin 2x = 2 sin x cos x, tan 2x = (2 tan x)/(1 - tan^2 x)\n",
      "        \r",
      "cos 2x = cos^2 x - sin^2 x = 1 - 2 sin^2 x = 2 cos^2 x-1\n"
     ]
    }
   ],
   "source": [
    "notes()"
   ]
  },
  {
   "cell_type": "code",
   "execution_count": 48,
   "metadata": {
    "scrolled": true
   },
   "outputs": [
    {
     "data": {
      "text/plain": [
       "{'quad1': {'all > 0'},\n",
       " 'quad2': {'cos < 0', 'cot > 0', 'csc > 0', 'sec < 0', 'sin > 0', 'tan < 0'},\n",
       " 'quad3': {'cos < 0', 'cot > 0', 'csc < 0', 'sec < 0', 'sin < 0', 'tan > 0'},\n",
       " 'quad4': {'cos > 0', 'cot > 0', 'csc < 0', 'sec > 0', 'sin < 0', 'tan < 0'}}"
      ]
     },
     "execution_count": 48,
     "metadata": {},
     "output_type": "execute_result"
    }
   ],
   "source": [
    "(1x+2.0)(2x+1)"
   ]
  },
  {
   "cell_type": "code",
   "execution_count": 370,
   "metadata": {},
   "outputs": [
    {
     "ename": "TypeError",
     "evalue": "triangle_one_side() missing 4 required positional arguments: 'angle', 'side_length', 'aoh', and 'sohcahtoa'",
     "output_type": "error",
     "traceback": [
      "\u001b[0;31m---------------------------------------------------------------------------\u001b[0m",
      "\u001b[0;31mTypeError\u001b[0m                                 Traceback (most recent call last)",
      "Input \u001b[0;32mIn [370]\u001b[0m, in \u001b[0;36m<cell line: 1>\u001b[0;34m()\u001b[0m\n\u001b[0;32m----> 1\u001b[0m \u001b[43mtriangle_one_side\u001b[49m\u001b[43m(\u001b[49m\u001b[43m)\u001b[49m\n",
      "\u001b[0;31mTypeError\u001b[0m: triangle_one_side() missing 4 required positional arguments: 'angle', 'side_length', 'aoh', and 'sohcahtoa'"
     ]
    }
   ],
   "source": [
    "triangle_one_side()"
   ]
  },
  {
   "cell_type": "code",
   "execution_count": 349,
   "metadata": {},
   "outputs": [
    {
     "name": "stdout",
     "output_type": "stream",
     "text": [
      "61\n"
     ]
    },
    {
     "data": {
      "text/plain": [
       "'sqrt(61)'"
      ]
     },
     "execution_count": 349,
     "metadata": {},
     "output_type": "execute_result"
    }
   ],
   "source": [
    "simplify_sqrt(61)"
   ]
  },
  {
   "cell_type": "code",
   "execution_count": 180,
   "metadata": {},
   "outputs": [],
   "source": [
    "    quadrants = {\n",
    "        1:[True,True],\n",
    "        2:[False,True],\n",
    "        3:[False,False],\n",
    "        4:[True,False]\n",
    "    }"
   ]
  },
  {
   "cell_type": "code",
   "execution_count": 178,
   "metadata": {},
   "outputs": [],
   "source": [
    " xy_bool = [coordinates[0]>0,coordinates[1]>0]"
   ]
  },
  {
   "cell_type": "code",
   "execution_count": 177,
   "metadata": {},
   "outputs": [],
   "source": [
    "coordinates = (1,1)"
   ]
  },
  {
   "cell_type": "code",
   "execution_count": 187,
   "metadata": {},
   "outputs": [
    {
     "data": {
      "text/plain": [
       "False"
      ]
     },
     "execution_count": 187,
     "metadata": {},
     "output_type": "execute_result"
    }
   ],
   "source": [
    "quadrants[2] == xy_bool"
   ]
  },
  {
   "cell_type": "code",
   "execution_count": 232,
   "metadata": {},
   "outputs": [
    {
     "data": {
      "text/plain": [
       "60"
      ]
     },
     "execution_count": 232,
     "metadata": {},
     "output_type": "execute_result"
    }
   ],
   "source": [
    "reference_angle(420)"
   ]
  },
  {
   "cell_type": "code",
   "execution_count": 233,
   "metadata": {},
   "outputs": [
    {
     "data": {
      "text/plain": [
       "'2pi/9'"
      ]
     },
     "execution_count": 233,
     "metadata": {},
     "output_type": "execute_result"
    }
   ],
   "source": [
    "reference_angle(25/9,False)"
   ]
  },
  {
   "cell_type": "code",
   "execution_count": 229,
   "metadata": {},
   "outputs": [
    {
     "name": "stdout",
     "output_type": "stream",
     "text": [
      "1/9\n"
     ]
    }
   ],
   "source": [
    "if c > 1/2:\n",
    "    print(((c)-1)*-1)"
   ]
  },
  {
   "cell_type": "code",
   "execution_count": 322,
   "metadata": {},
   "outputs": [
    {
     "data": {
      "text/plain": [
       "48"
      ]
     },
     "execution_count": 322,
     "metadata": {},
     "output_type": "execute_result"
    }
   ],
   "source": [
    "reference_angle(-228)"
   ]
  },
  {
   "cell_type": "code",
   "execution_count": 323,
   "metadata": {},
   "outputs": [
    {
     "name": "stdout",
     "output_type": "stream",
     "text": [
      "d=sqrt((0.7241379310344828-0)^2+(0.6896551724137931-0)^2)\n",
      "d=sqrt(0.5243757431629014+0.47562425683709875)\n",
      "d=sqrt(1)\n",
      "x = 0.7241379310344828, y = 0.6896551724137931, r= 1\n"
     ]
    },
    {
     "data": {
      "text/plain": [
       "1"
      ]
     },
     "execution_count": 323,
     "metadata": {},
     "output_type": "execute_result"
    }
   ],
   "source": [
    "circle_xy((21/29,20/29))"
   ]
  },
  {
   "cell_type": "code",
   "execution_count": 205,
   "metadata": {},
   "outputs": [],
   "source": [
    "def simplify_sqrt(x):\n",
    "    a = f\"sqrt({x})\"\n",
    "    b = float(x**(1/2))\n",
    "    if b.is_integer():\n",
    "        a = int(b)\n",
    "    if not type(a) == int:\n",
    "        for i in range(x,1,-1):\n",
    "            if x % i == 0:\n",
    "                print(i)\n",
    "                c = i**(1/2)\n",
    "                if c.is_integer():\n",
    "                    a = f\"{int(c)} sqrt({int((x/c)**(1/2))})\"\n",
    "                    break\n",
    "    return a"
   ]
  },
  {
   "cell_type": "code",
   "execution_count": 215,
   "metadata": {},
   "outputs": [
    {
     "data": {
      "text/plain": [
       "16"
      ]
     },
     "execution_count": 215,
     "metadata": {},
     "output_type": "execute_result"
    }
   ],
   "source": [
    "int(round(15.99999999,5))"
   ]
  },
  {
   "cell_type": "code",
   "execution_count": null,
   "metadata": {},
   "outputs": [],
   "source": []
  }
 ],
 "metadata": {
  "interpreter": {
   "hash": "916dbcbb3f70747c44a77c7bcd40155683ae19c65e1c03b4aa3499c5328201f1"
  },
  "kernelspec": {
   "display_name": "Python 3 (ipykernel)",
   "language": "python",
   "name": "python3"
  },
  "language_info": {
   "codemirror_mode": {
    "name": "ipython",
    "version": 3
   },
   "file_extension": ".py",
   "mimetype": "text/x-python",
   "name": "python",
   "nbconvert_exporter": "python",
   "pygments_lexer": "ipython3",
   "version": "3.8.10"
  }
 },
 "nbformat": 4,
 "nbformat_minor": 2
}
