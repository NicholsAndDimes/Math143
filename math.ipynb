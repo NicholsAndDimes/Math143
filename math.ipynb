{
 "cells": [
  {
   "cell_type": "code",
   "execution_count": 30,
   "metadata": {},
   "outputs": [],
   "source": [
    "import math\n",
    "from fractions import Fraction\n",
    "\n",
    "def remove_exponent(x,y):\n",
    "    print(f\"{x}^{y}\")\n",
    "    print(\"move the exponent into the denominator\")\n",
    "    y = y*-1\n",
    "    print(f\"1/{x}^{y}\")\n",
    "    ans = x**y\n",
    "    print(f\"1/{ans}\")\n",
    "\n",
    "    return 1/int(ans)\n",
    "\n",
    "def simplify_exponent_fraction(x,y):\n",
    "    print(f\"1/{x}^{y}\")\n",
    "    print(\"move exponent into the numerator and remove the negative\")\n",
    "    y = y*-1\n",
    "    print(f\"{x}^{y}\")\n",
    "    ans = x**y\n",
    "    print(ans)\n",
    "\n",
    "    return ans\n",
    "\n",
    "def fractional_exponent(x,y,z):\n",
    "    print(f\"({x}/{y})^{z}\")\n",
    "    if z < 0:\n",
    "        z = z*-1\n",
    "        print(\"invert fraction and remove the negative exponent\")\n",
    "        x,y = y,x\n",
    "        print(f\"({x}/{y})^{z}\")\n",
    "    print(\"apply exp to both numerator and denominator\")\n",
    "    print(f\"{x}^{z}/{y}^{z}\")\n",
    "    x_ans = x**z\n",
    "    y_ans = y**z\n",
    "    print(f\"{x_ans}/{y_ans}\")\n",
    "\n",
    "    return x_ans/y_ans\n",
    "\n",
    "def power_of_power(x,y,z):\n",
    "    print(f\"({x}^{y})^{z}\")\n",
    "    print(\"multiply exponents together\")\n",
    "    y_ans = y*z\n",
    "    print(f\"{x}^{y_ans}\")\n",
    "    if y_ans < 0:\n",
    "        print(\"invert negative exponent\")\n",
    "        y_ans = y_ans*-1\n",
    "        print(f\"1/({x}^{y_ans}\")\n",
    "\n",
    "def factor_trinomial(x,y,z,letter):\n",
    "    ans = False\n",
    "    break_line = \"-\"*10\n",
    "    print(f\"{x}{letter}^2+{y}{letter}+{z}\")\n",
    "    print(\"multiply first and last numbers\")\n",
    "    print(f\"{x}*{z}={x*z}\")\n",
    "    print(break_line)\n",
    "    pq = x*z\n",
    "    if pq < 0:\n",
    "        pq = pq*-1\n",
    "    print(f\"check all factors of {pq}, then check that the first and last numbers added make {y}\")\n",
    "    for a in range(int(math.sqrt(pq)+1)):\n",
    "        if a == 0:\n",
    "            continue\n",
    "        if x*z % a == 0:\n",
    "            print(f\"{a}*{int((x*z)/a)}={int(x*z)}\")\n",
    "            print(f\"{-a}*{int(-1*((x*z)/a))}={int(x*z)}\")\n",
    "        \n",
    "        a_list = [a,int(-1*a)]\n",
    "        for b in a_list:\n",
    "            if b+(int(x*z)/b)==y:\n",
    "                print(break_line)\n",
    "                print(f\"{a}+{int((x*z)/a)}={y}\")\n",
    "                print(break_line)\n",
    "                ans = True\n",
    "                break\n",
    "        if ans == True:\n",
    "            break\n",
    "    if ans == False:\n",
    "        print(\"cannot factor\")\n",
    "\n",
    "        return\n",
    "\n",
    "    print(f\"{x}{letter}^2+{b}{letter}+{int((x*z)/b)}{letter}+{z}\")\n",
    "    fraction_a = Fraction(x/b).limit_denominator()\n",
    "    fraction_b = Fraction(int((x*z)/b)/z).limit_denominator()\n",
    "    print(\"reduce and group\")\n",
    "    print(f\"{int(x/fraction_a.numerator)}{letter}({fraction_a.numerator}{letter}+{fraction_a.denominator})+{int((x*z)/b)/fraction_b.numerator}({fraction_b.numerator}{letter}+{fraction_b.denominator})\")\n",
    "    print(\"final grouping\")\n",
    "    print(f\"({int(x/fraction_a.numerator)}{letter}+{int((x*z)/b)/fraction_b.numerator})+({fraction_a.numerator}{letter}+{fraction_a.denominator})\")\n",
    "\n",
    "def difference_squares(x,y,letter):\n",
    "    print(f\"{x}-{y}\")\n",
    "    print(\"get the squares, and + and - factor them\")\n",
    "    x_sq = math.sqrt(x)\n",
    "    y_sq = math.sqrt(y)\n",
    "    if x_sq.is_integer() and y_sq.is_integer():\n",
    "        print(f\"({int(x_sq)}+{int(y_sq)}{letter})({int(x_sq)}-{int(y_sq)}{letter})\")\n",
    "\n",
    "def two_cubes(x,y,var_side):\n",
    "    a=\"x\"\n",
    "    b=\"\"\n",
    "    c=\"^2\"\n",
    "    d=\"\"\n",
    "    if var_side == \"y\":\n",
    "        a=\"\"\n",
    "        b=\"y\"\n",
    "        c=\"\"\n",
    "        d=\"^2\"\n",
    "    if y < 0:\n",
    "        print(f\"{x}{a}{y}{b}\")\n",
    "        x=round(x**(1/3))\n",
    "        y=round((abs(y)**(1/3))*-1)\n",
    "        print(f\"{x}{a}^3 {y}{b}^3\")\n",
    "        print(f\"({x}{a} {y}{b})({round(x**2)}{a}{c} + {round(x*y*-1)}{a}{b} + {round(y**2)}{b}{d})\")\n",
    "    else:\n",
    "        print(f\"{x}{a}+{y}{b}\")\n",
    "        x=round(x**(1/3))\n",
    "        y=round(y**(1/3))\n",
    "        print(f\"{x}{a}^3 + {y}{b}^3\")\n",
    "        print(f\"({x}{a} + {y}{b})({round(x**2)}{a}{c} - {round(x*y)}{a}{b} + {round(y**2)}{b}{d})\")\n",
    "\n",
    "def difference_cubes(x,y):\n",
    "    a = round(x**(1/3))\n",
    "    b = round(abs(y)**(1/3))\n",
    "    if y<0:\n",
    "        print(f\"{x}{y}\")\n",
    "        print(\"(a-b)(a^2+ab+b^2)\")\n",
    "        print(f\"({a}-{b})({a**2}+{a*b}+{b**2})\")\n",
    "    else:\n",
    "        print(f\"{x}+{y}\")\n",
    "        print(\"(a+b)(a^2-ab+b^2)\")\n",
    "        print(f\"({a}+{b})({a**2}-{a*b}+{b**2})\")\n",
    "\n",
    "def simplify_sq_root(x):\n",
    "    print(f\"Squareroot of {x}\")\n",
    "    for i in range(2,x):\n",
    "        if x % i == 0:\n",
    "            y = x/i\n",
    "            print(f\"{y} * {i} = {x}\")\n",
    "            if float(y ** (1/2)).is_integer():\n",
    "                print(f\"sqareroot of {y} is {y ** (1/2)}\")\n",
    "                print(f\"{int(y ** (1/2))} sqrt {i}\")\n",
    "                if float(i ** (1/2)).is_integer():\n",
    "                    print(f\"perfect sq: {(y ** (1/2))*(i ** (1/2))} =\")\n",
    "                break\n",
    "\n",
    "def lcd(x,y,z):\n",
    "    x_multiples = [x]\n",
    "    y_multiples = [y]\n",
    "    z_multiples = [z]\n",
    "    a = 2\n",
    "    while True:\n",
    "        a+=1\n",
    "        x_multiples.append(x_multiples[0]*a)\n",
    "        y_multiples.append(y_multiples[0]*a)\n",
    "        z_multiples.append(z_multiples[0]*a)\n",
    "        answer = set(x_multiples) & set(y_multiples) & set(z_multiples)\n",
    "        if answer != set():\n",
    "            print(x_multiples)\n",
    "            print(y_multiples)\n",
    "            print(z_multiples)\n",
    "            print(answer)\n",
    "            \n",
    "            return answer\n",
    "\n",
    "def lcd_fraction(x,y,z, letter_place):\n",
    "    print(x,y,z)\n",
    "    x = Fraction(x).limit_denominator()\n",
    "    y = Fraction(y).limit_denominator()\n",
    "    z = Fraction(z).limit_denominator()\n",
    "    print (x,y,z)\n",
    "    multiplier = lcd(x.denominator, y.denominator, z.denominator)\n",
    "    multiplier = multiplier.pop()\n",
    "    print(multiplier)\n",
    "    x = x*multiplier\n",
    "    y = y*multiplier\n",
    "    z = z*multiplier\n",
    "    print(f\"{x}, {y}, {z}\")\n",
    "    if letter_place == \"x\":\n",
    "        print(f\"x = {(z-y)/x}\")\n",
    "    else:\n",
    "        print(f\"y = {(z-x)/y}\")\n",
    "\n",
    "def circle_shit(x):\n",
    "    pi = 3.14\n",
    "    area = pi*(x**2)\n",
    "    circumference = 2*pi*x\n",
    "    print(f\"area: {area}\\ncirc: {circumference}\")\n",
    "\n",
    "def triangle_shit(b,h):\n",
    "    print(f\"{(b*h)/2}\")\n",
    "\n",
    "def double_fraction(x,y):\n",
    "    x = Fraction(x).limit_denominator()\n",
    "    y = Fraction(y).limit_denominator()\n",
    "    z = y.numerator\n",
    "    if y < 0:\n",
    "        z = y.numerator*-1\n",
    "        \n",
    "        print(f\"{x.numerator}/({x.denominator}^({y}))\")\n",
    "        a = x.denominator/x.numerator\n",
    "        b = y.denominator\n",
    "        if a.is_integer():\n",
    "            print(f\"({a})^({z}/{y.denominator})\")\n",
    "            print(f\"(({a})^(1/{y.denominator}))^{z}\")\n",
    "            print(f\"{int((a) ** (1/y.denominator))}^{z}\")\n",
    "            print(f\"{int(((a) ** (1/y.denominator)) ** z)}\")\n",
    "        else:\n",
    "            print(f\"{x.denominator}/({x.numerator}^({z}/{y.denominator}))\")\n",
    "            print(f\"{x.denominator}/(({x.numerator}^(1/{y.denominator}))^{z}\")\n",
    "            print(f\"{x.denominator}/({round(x.numerator ** (1/y.denominator))}^{z})\")\n",
    "            print(f\"{x.denominator}/{round(x.numerator ** (1/y.denominator))**z}\")\n",
    "    else:\n",
    "        print(f\"1/({x.denominator}^(1/{y.denominator}))^{z}\")\n",
    "        print(f\"1/{int((x.denominator ** (1/y.denominator))**z)}\")\n",
    "    \n",
    "def find_slope_a(x,y):\n",
    "    print(x,y)\n",
    "    print(f\"({y[1]}-{x[1]})/({y[0]}-{x[0]})\")\n",
    "    slope = Fraction((y[1]-x[1])/(y[0]-x[0])).limit_denominator()\n",
    "    print(slope)\n",
    "\n",
    "def find_slope(first_coord,second_coord):\n",
    "    x1 = first_coord[0]\n",
    "    y1 = first_coord[1]\n",
    "    x2 = second_coord[0]\n",
    "    y2 = second_coord[1]\n",
    "    print(f\"({x1},{y1}),({x2},{y2})\")\n",
    "    print(f\"m = ({y2}-{y1})/({x2}-{x1})\")\n",
    "    rise = y2-y1\n",
    "    run = x2-x1\n",
    "    slope = Fraction(rise/run).limit_denominator()\n",
    "    print(f\"slope = {slope}\")\n",
    "    print(f\"y-{y1}={slope}(x-{x1})\")\n",
    "    print(f\"y={slope}x-{(slope*x1)*-1}+{y1}\")\n",
    "    print(f\"y={slope}x-{(slope*x1)*-1+y1}\")"
   ]
  },
  {
   "cell_type": "code",
   "execution_count": 34,
   "metadata": {},
   "outputs": [
    {
     "name": "stdout",
     "output_type": "stream",
     "text": [
      "(5, -1) (4, -7)\n",
      "(-7--1)/(4-5)\n",
      "6\n"
     ]
    }
   ],
   "source": [
    "find_slope((5,-1),(4,-7))"
   ]
  },
  {
   "cell_type": "code",
   "execution_count": 20,
   "metadata": {},
   "outputs": [
    {
     "data": {
      "text/plain": [
       "-13"
      ]
     },
     "execution_count": 20,
     "metadata": {},
     "output_type": "execute_result"
    }
   ],
   "source": [
    "-2*((5))-3"
   ]
  },
  {
   "cell_type": "code",
   "execution_count": 391,
   "metadata": {},
   "outputs": [
    {
     "name": "stdout",
     "output_type": "stream",
     "text": [
      "1/(32^(1/5))^4\n",
      "1/16\n"
     ]
    }
   ],
   "source": [
    "double_fraction(1/32,4/5)"
   ]
  },
  {
   "cell_type": "code",
   "execution_count": 395,
   "metadata": {},
   "outputs": [
    {
     "name": "stdout",
     "output_type": "stream",
     "text": [
      "-2.5 0.2 -1.2\n",
      "-5/2 1/5 -6/5\n",
      "[2, 6, 8, 10, 12, 14, 16, 18, 20]\n",
      "[5, 15, 20, 25, 30, 35, 40, 45, 50]\n",
      "[5, 15, 20, 25, 30, 35, 40, 45, 50]\n",
      "{20}\n",
      "20\n",
      "-50, 4, -24\n",
      "x = 14/25\n"
     ]
    }
   ],
   "source": [
    "lcd_fraction(-5/2,1/5,-6/5, \"x\")"
   ]
  },
  {
   "cell_type": "code",
   "execution_count": 396,
   "metadata": {},
   "outputs": [
    {
     "name": "stdout",
     "output_type": "stream",
     "text": [
      "21y^2+-53y+30\n",
      "multiply first and last numbers\n",
      "21*30=630\n",
      "----------\n",
      "check all factors of 630, then check that the first and last numbers added make -53\n",
      "1*630=630\n",
      "-1*-630=630\n",
      "2*315=630\n",
      "-2*-315=630\n",
      "3*210=630\n",
      "-3*-210=630\n",
      "5*126=630\n",
      "-5*-126=630\n",
      "6*105=630\n",
      "-6*-105=630\n",
      "7*90=630\n",
      "-7*-90=630\n",
      "9*70=630\n",
      "-9*-70=630\n",
      "10*63=630\n",
      "-10*-63=630\n",
      "14*45=630\n",
      "-14*-45=630\n",
      "15*42=630\n",
      "-15*-42=630\n",
      "18*35=630\n",
      "-18*-35=630\n",
      "----------\n",
      "18+35=-53\n",
      "----------\n",
      "21y^2+-18y+-35y+30\n",
      "reduce and group\n",
      "-3y(-7y+6)+5.0(-7y+6)\n",
      "final grouping\n",
      "(-3y+5.0)+(-7y+6)\n"
     ]
    }
   ],
   "source": [
    "factor_trinomial(21,-53,30,\"y\")"
   ]
  },
  {
   "cell_type": "code",
   "execution_count": 102,
   "metadata": {},
   "outputs": [
    {
     "name": "stdout",
     "output_type": "stream",
     "text": [
      "9-4\n",
      "get the squares, and + and - factor them\n",
      "(3+2z)(3-2z)\n"
     ]
    }
   ],
   "source": [
    "factor_square(2,24,\"z\")"
   ]
  },
  {
   "cell_type": "code",
   "execution_count": 87,
   "metadata": {},
   "outputs": [
    {
     "name": "stdout",
     "output_type": "stream",
     "text": [
      "3\n"
     ]
    }
   ],
   "source": [
    "print(answer.denominator)"
   ]
  },
  {
   "cell_type": "code",
   "execution_count": 66,
   "metadata": {},
   "outputs": [
    {
     "data": {
      "text/plain": [
       "0.7631428283688879"
      ]
     },
     "execution_count": 66,
     "metadata": {},
     "output_type": "execute_result"
    }
   ],
   "source": [
    "answer**answer"
   ]
  },
  {
   "cell_type": "code",
   "execution_count": 412,
   "metadata": {},
   "outputs": [
    {
     "data": {
      "text/plain": [
       "12"
      ]
     },
     "execution_count": 412,
     "metadata": {},
     "output_type": "execute_result"
    }
   ],
   "source": [
    "-3*(-2**2)"
   ]
  },
  {
   "cell_type": "code",
   "execution_count": 133,
   "metadata": {},
   "outputs": [
    {
     "data": {
      "text/plain": [
       "0"
      ]
     },
     "execution_count": 133,
     "metadata": {},
     "output_type": "execute_result"
    }
   ],
   "source": [
    "176 % 1"
   ]
  },
  {
   "cell_type": "code",
   "execution_count": 399,
   "metadata": {},
   "outputs": [
    {
     "name": "stdout",
     "output_type": "stream",
     "text": [
      "area: 4775.9400000000005\n",
      "circ: 244.92000000000002\n"
     ]
    }
   ],
   "source": [
    "circle_shit(78/2)"
   ]
  },
  {
   "cell_type": "code",
   "execution_count": 414,
   "metadata": {},
   "outputs": [
    {
     "data": {
      "text/plain": [
       "0.4207492795389049"
      ]
     },
     "execution_count": 414,
     "metadata": {},
     "output_type": "execute_result"
    }
   ],
   "source": [
    "146/347"
   ]
  },
  {
   "cell_type": "code",
   "execution_count": 402,
   "metadata": {},
   "outputs": [
    {
     "data": {
      "text/plain": [
       "216"
      ]
     },
     "execution_count": 402,
     "metadata": {},
     "output_type": "execute_result"
    }
   ],
   "source": [
    "27*(2**3)"
   ]
  },
  {
   "cell_type": "code",
   "execution_count": 404,
   "metadata": {},
   "outputs": [
    {
     "data": {
      "text/plain": [
       "121"
      ]
     },
     "execution_count": 404,
     "metadata": {},
     "output_type": "execute_result"
    }
   ],
   "source": [
    "(3*2+5)**2"
   ]
  },
  {
   "cell_type": "code",
   "execution_count": null,
   "metadata": {},
   "outputs": [],
   "source": []
  }
 ],
 "metadata": {
  "interpreter": {
   "hash": "916dbcbb3f70747c44a77c7bcd40155683ae19c65e1c03b4aa3499c5328201f1"
  },
  "kernelspec": {
   "display_name": "Python 3.8.10 64-bit",
   "language": "python",
   "name": "python3"
  },
  "language_info": {
   "codemirror_mode": {
    "name": "ipython",
    "version": 3
   },
   "file_extension": ".py",
   "mimetype": "text/x-python",
   "name": "python",
   "nbconvert_exporter": "python",
   "pygments_lexer": "ipython3",
   "version": "3.8.10"
  },
  "orig_nbformat": 4
 },
 "nbformat": 4,
 "nbformat_minor": 2
}
