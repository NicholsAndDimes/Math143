{
 "cells": [
  {
   "cell_type": "code",
   "execution_count": 13,
   "metadata": {},
   "outputs": [],
   "source": [
    "def remove_exponent(x,y):\n",
    "    print(f\"{x}^{y}\")\n",
    "    print(\"move the exponent into the denominator\")\n",
    "    y = y*-1\n",
    "    print(f\"1/{x}^{y}\")\n",
    "    ans = x**y\n",
    "    print(f\"1/{ans}\")\n",
    "\n",
    "    return 1/int(ans)\n",
    "\n",
    "def simplify_exponent_fraction(x,y):\n",
    "    print(f\"1/{x}^{y}\")\n",
    "    print(\"move exponent into the numerator and remove the negative\")\n",
    "    y = y*-1\n",
    "    print(f\"{x}^{y}\")\n",
    "    ans = x**y\n",
    "    print(ans)\n",
    "\n",
    "    return ans\n",
    "\n",
    "def fractional_exponent(x,y,z):\n",
    "    print(f\"({x}/{y})^{z}\")\n",
    "    if z < 0:\n",
    "        z = z*-1\n",
    "        print(\"invert fraction and remove the negative exponent\")\n",
    "        x,y = y,x\n",
    "        print(f\"({x}/{y})^{z}\")\n",
    "    print(\"apply exp to both numerator and denominator\")\n",
    "    print(f\"{x}^{z}/{y}^{z}\")\n",
    "    x_ans = x**z\n",
    "    y_ans = y**z\n",
    "    print(f\"{x_ans}/{y_ans}\")\n",
    "\n",
    "    return x_ans/y_ans"
   ]
  },
  {
   "cell_type": "code",
   "execution_count": 12,
   "metadata": {},
   "outputs": [
    {
     "name": "stdout",
     "output_type": "stream",
     "text": [
      "4^-4\n",
      "move the exponent into the denominator\n",
      "1/4^4\n",
      "1/256\n"
     ]
    },
    {
     "data": {
      "text/plain": [
       "0.00390625"
      ]
     },
     "execution_count": 12,
     "metadata": {},
     "output_type": "execute_result"
    }
   ],
   "source": [
    "remove_exponent(4,-4)"
   ]
  },
  {
   "cell_type": "code",
   "execution_count": 10,
   "metadata": {},
   "outputs": [
    {
     "name": "stdout",
     "output_type": "stream",
     "text": [
      "1/3^-3\n",
      "move exponent into the numerator\n",
      "3^3\n",
      "27\n"
     ]
    },
    {
     "data": {
      "text/plain": [
       "27"
      ]
     },
     "execution_count": 10,
     "metadata": {},
     "output_type": "execute_result"
    }
   ],
   "source": [
    "simplify_exponent_fraction(3,-3)"
   ]
  },
  {
   "cell_type": "code",
   "execution_count": 16,
   "metadata": {},
   "outputs": [
    {
     "name": "stdout",
     "output_type": "stream",
     "text": [
      "(9/5)^-2\n",
      "invert fraction\n",
      "(5/9)^2\n",
      "apply exp to both numerator and denominator\n",
      "5^2/9^2\n",
      "25/81\n"
     ]
    },
    {
     "data": {
      "text/plain": [
       "0.30864197530864196"
      ]
     },
     "execution_count": 16,
     "metadata": {},
     "output_type": "execute_result"
    }
   ],
   "source": [
    "fractional_exponent(9,5,-2)"
   ]
  },
  {
   "cell_type": "code",
   "execution_count": null,
   "metadata": {},
   "outputs": [],
   "source": []
  }
 ],
 "metadata": {
  "interpreter": {
   "hash": "5b3ded1ccb95c1d9bd405e7b823d9e85424cde40fbb5985eb47e999ef50e15b4"
  },
  "kernelspec": {
   "display_name": "Python 3.8.10 64-bit",
   "language": "python",
   "name": "python3"
  },
  "language_info": {
   "codemirror_mode": {
    "name": "ipython",
    "version": 3
   },
   "file_extension": ".py",
   "mimetype": "text/x-python",
   "name": "python",
   "nbconvert_exporter": "python",
   "pygments_lexer": "ipython3",
   "version": "3.8.10"
  },
  "orig_nbformat": 4
 },
 "nbformat": 4,
 "nbformat_minor": 2
}
