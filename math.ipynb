{
 "cells": [
  {
   "cell_type": "code",
   "execution_count": 1,
   "metadata": {},
   "outputs": [],
   "source": [
    "import math\n",
    "from fractions import Fraction\n",
    "\n",
    "def remove_exponent(x,y):\n",
    "    print(f\"{x}^{y}\")\n",
    "    print(\"move the exponent into the denominator\")\n",
    "    y = y*-1\n",
    "    print(f\"1/{x}^{y}\")\n",
    "    ans = x**y\n",
    "    print(f\"1/{ans}\")\n",
    "\n",
    "    return 1/int(ans)\n",
    "\n",
    "def simplify_exponent_fraction(x,y):\n",
    "    print(f\"1/{x}^{y}\")\n",
    "    print(\"move exponent into the numerator and remove the negative\")\n",
    "    y = y*-1\n",
    "    print(f\"{x}^{y}\")\n",
    "    ans = x**y\n",
    "    print(ans)\n",
    "\n",
    "    return ans\n",
    "\n",
    "def fractional_exponent(x,y,z):\n",
    "    print(f\"({x}/{y})^{z}\")\n",
    "    if z < 0:\n",
    "        z = z*-1\n",
    "        print(\"invert fraction and remove the negative exponent\")\n",
    "        x,y = y,x\n",
    "        print(f\"({x}/{y})^{z}\")\n",
    "    print(\"apply exp to both numerator and denominator\")\n",
    "    print(f\"{x}^{z}/{y}^{z}\")\n",
    "    x_ans = x**z\n",
    "    y_ans = y**z\n",
    "    print(f\"{x_ans}/{y_ans}\")\n",
    "\n",
    "    return x_ans/y_ans\n",
    "\n",
    "def power_of_power(x,y,z):\n",
    "    print(f\"({x}^{y})^{z}\")\n",
    "    print(\"multiply exponents together\")\n",
    "    y_ans = Fraction(y*z).limit_denominator()\n",
    "    print(f\"{x}^{y_ans}\")\n",
    "    if y_ans < 0:\n",
    "        print(\"invert negative exponent\")\n",
    "        y_ans = Fraction(y_ans*-1).limit_denominator()\n",
    "        print(f\"1/({x}^{y_ans}\")\n",
    "\n",
    "def factor_trinomial(x,y,z,letter):\n",
    "    ans = False\n",
    "    break_line = \"-\"*10\n",
    "    print(f\"{x}{letter}^2+{y}{letter}+{z}\")\n",
    "    print(\"multiply first and last numbers\")\n",
    "    print(f\"{x}*{z}={x*z}\")\n",
    "    print(break_line)\n",
    "    pq = x*z\n",
    "    if pq < 0:\n",
    "        pq = pq*-1\n",
    "    print(f\"check all factors of {pq}, then check that the first and last numbers added make {y}\")\n",
    "    for a in range(int(math.sqrt(pq)+1)):\n",
    "        if a == 0:\n",
    "            continue\n",
    "        if x*z % a == 0:\n",
    "            print(f\"{a}*{int((x*z)/a)}={int(x*z)}\")\n",
    "            print(f\"{-a}*{int(-1*((x*z)/a))}={int(x*z)}\")\n",
    "        \n",
    "        a_list = [a,int(-1*a)]\n",
    "        for b in a_list:\n",
    "            if b+(int(x*z)/b)==y:\n",
    "                print(break_line)\n",
    "                print(f\"{a}+{int((x*z)/a)}={y}\")\n",
    "                print(break_line)\n",
    "                ans = True\n",
    "                break\n",
    "        if ans == True:\n",
    "            break\n",
    "    if ans == False:\n",
    "        print(\"cannot factor\")\n",
    "\n",
    "        return\n",
    "\n",
    "    print(f\"{x}{letter}^2+{b}{letter}+{int((x*z)/b)}{letter}+{z}\")\n",
    "    fraction_a = Fraction(x/b).limit_denominator()\n",
    "    fraction_b = Fraction(int((x*z)/b)/z).limit_denominator()\n",
    "    print(\"reduce and group\")\n",
    "    print(f\"{int(x/fraction_a.numerator)}{letter}({fraction_a.numerator}{letter}+{fraction_a.denominator})+{int((x*z)/b)/fraction_b.numerator}({fraction_b.numerator}{letter}+{fraction_b.denominator})\")\n",
    "    print(\"final grouping\")\n",
    "    print(f\"({int(x/fraction_a.numerator)}{letter}+{int((x*z)/b)/fraction_b.numerator})({fraction_a.numerator}{letter}+{fraction_a.denominator})\")\n",
    "\n",
    "def difference_squares(x,y,letter):\n",
    "    print(f\"{x}-{y}\")\n",
    "    print(\"get the squares, and + and - factor them\")\n",
    "    x_sq = math.sqrt(x)\n",
    "    y_sq = math.sqrt(y)\n",
    "    if x_sq.is_integer() and y_sq.is_integer():\n",
    "        print(f\"({int(x_sq)}+{int(y_sq)}{letter})({int(x_sq)}-{int(y_sq)}{letter})\")\n",
    "\n",
    "def two_cubes(x,y,var_side):\n",
    "    a=\"x\"\n",
    "    b=\"\"\n",
    "    c=\"^2\"\n",
    "    d=\"\"\n",
    "    if var_side == \"y\":\n",
    "        a=\"\"\n",
    "        b=\"y\"\n",
    "        c=\"\"\n",
    "        d=\"^2\"\n",
    "    if y < 0:\n",
    "        print(f\"{x}{a}{y}{b}\")\n",
    "        x=round(x**(1/3))\n",
    "        y=round((abs(y)**(1/3))*-1)\n",
    "        print(f\"{x}{a}^3 {y}{b}^3\")\n",
    "        print(f\"({x}{a} {y}{b})({round(x**2)}{a}{c} + {round(x*y*-1)}{a}{b} + {round(y**2)}{b}{d})\")\n",
    "    else:\n",
    "        print(f\"{x}{a}+{y}{b}\")\n",
    "        x=round(x**(1/3))\n",
    "        y=round(y**(1/3))\n",
    "        print(f\"{x}{a}^3 + {y}{b}^3\")\n",
    "        print(f\"({x}{a} + {y}{b})({round(x**2)}{a}{c} - {round(x*y)}{a}{b} + {round(y**2)}{b}{d})\")\n",
    "\n",
    "def difference_cubes(x,y):\n",
    "    a = round(x**(1/3))\n",
    "    b = round(abs(y)**(1/3))\n",
    "    if y<0:\n",
    "        print(f\"{x}{y}\")\n",
    "        print(\"(a-b)(a^2+ab+b^2)\")\n",
    "        print(f\"({a}-{b})({a**2}+{a*b}+{b**2})\")\n",
    "    else:\n",
    "        print(f\"{x}+{y}\")\n",
    "        print(\"(a+b)(a^2-ab+b^2)\")\n",
    "        print(f\"({a}+{b})({a**2}-{a*b}+{b**2})\")\n",
    "\n",
    "def simplify_sq_root(x):\n",
    "    print(f\"Squareroot of {x}\")\n",
    "    a = float(x**(1/2))\n",
    "    if a.is_integer():\n",
    "        print(int(a))\n",
    "        return x*2, x*2, int(a)\n",
    "    for i in range(2,x):\n",
    "        if x % i == 0:\n",
    "            y = int(x/i)\n",
    "            print(f\"{y} * {i} = {x}\")\n",
    "            if float(y ** (1/2)).is_integer():\n",
    "                print(f\"sqareroot of {y} is {int(y ** (1/2))}\")\n",
    "                print(f\"{int(y ** (1/2))} sqrt {i}\")\n",
    "                if float(i ** (1/2)).is_integer():\n",
    "                    print(f\"perfect sq: {(y ** (1/2))*(i ** (1/2))} =\")\n",
    "                    return y, i, (int(y ** (1/2))*int(i ** (1/2)))\n",
    "                return int(y ** (1/2)), i, False\n",
    "    print(\"no solution\")\n",
    "    return x, x, False\n",
    "\n",
    "def lcd(x,y,z):\n",
    "    x_multiples = [x]\n",
    "    y_multiples = [y]\n",
    "    z_multiples = [z]\n",
    "    a = 1\n",
    "    while True:\n",
    "        a+=1\n",
    "        x_multiples.append(x_multiples[0]*a)\n",
    "        y_multiples.append(y_multiples[0]*a)\n",
    "        z_multiples.append(z_multiples[0]*a)\n",
    "        answer = set(x_multiples) & set(y_multiples) & set(z_multiples)\n",
    "        if answer != set():\n",
    "            print(x_multiples)\n",
    "            print(y_multiples)\n",
    "            print(z_multiples)\n",
    "            print(answer)\n",
    "            \n",
    "            return answer\n",
    "\n",
    "def lcd_fraction(x,y,z, letter_place):\n",
    "    print(x,y,z)\n",
    "    x = Fraction(x).limit_denominator()\n",
    "    y = Fraction(y).limit_denominator()\n",
    "    z = Fraction(z).limit_denominator()\n",
    "    print (x,y,z)\n",
    "    multiplier = lcd(x.denominator, y.denominator, z.denominator)\n",
    "    multiplier = multiplier.pop()\n",
    "    print(multiplier)\n",
    "    x = x*multiplier\n",
    "    y = y*multiplier\n",
    "    z = z*multiplier\n",
    "    print(f\"{x}, {y}, {z}\")\n",
    "    if letter_place == \"x\":\n",
    "        print(f\"x = {(z-y)/x}\")\n",
    "    else:\n",
    "        print(f\"y = {(z-x)/y}\")\n",
    "    \n",
    "    return multiplier,x,y,z\n",
    "\n",
    "def circle_shit(x):\n",
    "    pi = 3.14\n",
    "    area = pi*(x**2)\n",
    "    circumference = 2*pi*x\n",
    "    print(f\"area: {area}\\ncirc: {circumference}\")\n",
    "\n",
    "def triangle_shit(b,h):\n",
    "    print(f\"{(b*h)/2}\")\n",
    "\n",
    "def double_fraction(x,y):\n",
    "    x = Fraction(x).limit_denominator()\n",
    "    y = Fraction(y).limit_denominator()\n",
    "    z = y.numerator\n",
    "    if y < 0:\n",
    "        z = y.numerator*-1\n",
    "        \n",
    "        print(f\"{x.numerator}/({x.denominator}^({y}))\")\n",
    "        a = x.denominator/x.numerator\n",
    "        b = y.denominator\n",
    "        if a.is_integer():\n",
    "            print(f\"({a})^({z}/{y.denominator})\")\n",
    "            print(f\"(({a})^(1/{y.denominator}))^{z}\")\n",
    "            print(f\"{int((a) ** (1/y.denominator))}^{z}\")\n",
    "            print(f\"{int(((a) ** (1/y.denominator)) ** z)}\")\n",
    "        else:\n",
    "            print(f\"{x.denominator}/({x.numerator}^({z}/{y.denominator}))\")\n",
    "            print(f\"{x.denominator}/(({x.numerator}^(1/{y.denominator}))^{z}\")\n",
    "            print(f\"{x.denominator}/({round(x.numerator ** (1/y.denominator))}^{z})\")\n",
    "            print(f\"{x.denominator}/{round(x.numerator ** (1/y.denominator))**z}\")\n",
    "    else:\n",
    "        print(f\"1/({x.denominator}^(1/{y.denominator}))^{z}\")\n",
    "        print(f\"1/{int((x.denominator ** (1/y.denominator))**z)}\")\n",
    "    \n",
    "def find_slope_a(x,y):\n",
    "    print(x,y)\n",
    "    print(f\"({y[1]}-{x[1]})/({y[0]}-{x[0]})\")\n",
    "    slope = Fraction((y[1]-x[1])/(y[0]-x[0])).limit_denominator()\n",
    "    print(slope)\n",
    "\n",
    "def find_slope(first_coord,second_coord):\n",
    "    x1 = first_coord[0]\n",
    "    y1 = first_coord[1]\n",
    "    x2 = second_coord[0]\n",
    "    y2 = second_coord[1]\n",
    "    print(f\"({x1},{y1}),({x2},{y2})\")\n",
    "    print(f\"m = ({y2}-{y1})/({x2}-{x1})\")\n",
    "    rise = y2-y1\n",
    "    run = x2-x1\n",
    "    slope = Fraction(rise/run).limit_denominator()\n",
    "    print(f\"slope = {slope}\")\n",
    "    print(f\"y-{y1}={slope}(x-{x1})\")\n",
    "    print(f\"y={slope}x-{(slope*x1)*-1}+{y1}\")\n",
    "    print(f\"y={slope}x-{(slope*x1)*-1+y1}\")\n",
    "\n",
    "def two_fraction_equals(a,b,c,d):\n",
    "    a = Fraction(a).limit_denominator()\n",
    "    b = Fraction(b).limit_denominator()\n",
    "    c = Fraction(c).limit_denominator()\n",
    "    d = Fraction(d).limit_denominator()\n",
    "    solo_number = \"\"\n",
    "    int_check = [a,b,c,d]\n",
    "    for item in int_check:\n",
    "        item_a = item\n",
    "        if item<0:\n",
    "            item_a = item*-1\n",
    "        if float(item_a).is_integer():\n",
    "            solo_number = item\n",
    "            int_check.remove(item)\n",
    "            break\n",
    "    multiplier,x,y,z = lcd_fraction(int_check[0],int_check[1],int_check[2],\"x\")\n",
    "    print(f\"{solo_number}*{multiplier}={solo_number*multiplier}\")\n",
    "    print(f\"{int_check[0]}*{multiplier}={int_check[0]*multiplier}\")\n",
    "    print(f\"{int_check[1]}*{multiplier}={int_check[1]*multiplier}\")\n",
    "    print(f\"{int_check[2]}*{multiplier}={int_check[2]*multiplier}\")\n",
    "\n",
    "def quad_formula(a, b, c):\n",
    "    print(f\"-{b}±√({b}²-4*{a}*{c}))/(2*{a})\")\n",
    "    print(f\"(-{b}+|-sqrt({(b**2)}-{(4*a*c)}))/{2*a}\")\n",
    "    print(f\"(-{b}+|-sqrt({(b**2)-(4*a*c)}))/{2*a}\")\n",
    "    d=b*-1\n",
    "    e=b**2\n",
    "    f=4*a*c\n",
    "    g=2*a\n",
    "    h=e-f\n",
    "    print(f\"({d}+sqrt({h}))/{g}\")\n",
    "    if not float((h)**(1/2)).is_integer():\n",
    "        y, i, j = simplify_sq_root(h)\n",
    "        if y == (e-f):\n",
    "            print(f\"({d}+(sqrt({h})))/{g}\")\n",
    "            print(f\"({d}-(sqrt({h})))/{g}\")\n",
    "            return\n",
    "        if j:\n",
    "            print(f\"({d}+{j})/{g}\")\n",
    "            print(f\"{((d+j)/g)}\")\n",
    "            print(f\"{((d-j)/g)}\")\n",
    "            return\n",
    "        else:\n",
    "            print(f\"({d}+{int(y)} sqrt {i})/{g}\")\n",
    "            print(f\"({d}-{int(y)} sqrt {i})/{g}\")\n",
    "            return\n",
    "    else:\n",
    "        print(f\"{(d+((h)**(1/2)))/g}\")\n",
    "        print(f\"{(d-((h)**(1/2)))/g}\")\n",
    "        return\n",
    "\n",
    "def quadratic_equation(a,b,c):\n",
    "    print(f\"x=(-{b} +|- sqrt ({b}^2 - 4*{a}*{c})) / (2*{a})\")\n",
    "    print(f\"x=(-{b} +|- sqrt {((b**2)-(4*a*c))}) / {2*a}\")\n",
    "    positive = round((((b*-1)+((b**2)-(4*a*c))**(1/2))/(2*a)),2)\n",
    "    negative = round((((b*-1)-((b**2)-(4*a*c))**(1/2))/(2*a)),2)\n",
    "    print(positive,negative)\n",
    "\n",
    "def absolutes(a, b, c):\n",
    "    if b == \"<\":\n",
    "        if c < 0:\n",
    "            print(\"no solution\")\n",
    "        else:\n",
    "            print(f\"-{c}{b}{a}{b}{c}\")\n",
    "    else:\n",
    "        if c < 0:\n",
    "            print(f\"{a}<{c*-1} or {a}{b}{c}\")\n",
    "        else:\n",
    "            print(f\"{a}<-{c} or {a}{b}{c}\")\n",
    "\n",
    "def divide_two_fractional_exponents(a,b):\n",
    "    a = Fraction(a).limit_denominator()\n",
    "    b = Fraction(b).limit_denominator()\n",
    "    print(f\"x^{a}/x^{b}\")\n",
    "    print(f\"x^{a}-{b}\")\n",
    "    c = (lcd(a.denominator, b.denominator, a.denominator)).pop()\n",
    "    d = c/a.denominator\n",
    "    e = c/b.denominator\n",
    "    print(f\"{int(d*a.numerator)}/{c}-{int(e*b.numerator)}/{c}\")\n",
    "    f = int((d*a.numerator)-(e*b.numerator))\n",
    "    print(f\"x^({f}/{c})\")\n",
    "    if f < 0:\n",
    "        print(f\"1/x^({(f*-1)}/{c})\")\n",
    "        \n",
    "def divide_complex(a,b,c,d):\n",
    "    print(f\"({a}+{b}i)/({c}+{d}i\")\n",
    "    print(f\"conjugate of {c}+{d}i is {c}-{d}i\")\n",
    "    print(f\"({a}+{b}i)*({c}-{d}i)/({c}+{d}i)*({c}-{d}i)\")\n",
    "    print(f\"({a*c}+{a*d*-1}i+{b*c}i+{b*d*-1}i^2)\")\n",
    "    e = a*c\n",
    "    f = (a*d*-1)+(b*c)\n",
    "    g = b*d\n",
    "    print(f\"{e+g}+{f}i\")\n",
    "    print(f\"{c*c}+{c*d*-1}i+{d*c}i+{d*d*-1}^2\")\n",
    "    h = c*c\n",
    "    i = (c*d*-1)+(d*c)\n",
    "    j = d*d\n",
    "    print(f\"{h+j}+{i}i\")\n",
    "    print(f\"{e+g}+{f}i/{h+j}+{i}i\")\n",
    "    print(f\"({e+g}/{h+j})+({f}i/{h+j})\")\n",
    "    \n",
    "def find_length(width_difference,multiplier,area):\n",
    "    print(f\"length = {multiplier}w + {width_difference}\")\n",
    "    print(f\" {area} = ({multiplier}w + {width_difference})w\")\n",
    "    print(f\"{multiplier}w^2+{width_difference}w\")\n",
    "    factor_trinomial(multiplier,width_difference,area*-1,\"x\")\n",
    "    \n",
    "def descriminant(a,b,c):\n",
    "    d = ((b**2)-(4*a*c))\n",
    "    if d > 0:\n",
    "        print(f\"2 solutions, {d}\")\n",
    "    if d == 0:\n",
    "        print(\"1 solution, 0\")\n",
    "    if d < 0:\n",
    "        print(f\"no solution, {d}\")\n",
    "\n",
    "def create_quadratic(a,b,c):\n",
    "    print(f\"{c}*(x-{a})*(x-{b})\")\n",
    "    print(f\"{c}x^2-{c*(a+b)}x+{a*b*c}\")\n",
    "    \n",
    "def a_b_exponents_of_exponents(a,b,c):\n",
    "    a = Fraction(a).limit_denominator()\n",
    "    b = Fraction(b).limit_denominator()\n",
    "    c = Fraction(c).limit_denominator()\n",
    "    print(f\"a^({a*c})*b^{b*c}\")\n",
    "\n",
    "def absolute_add_subtract(a,b,c):\n",
    "    if b == \"<\":\n",
    "        if c < 0:\n",
    "            print(\"no solution\")\n",
    "            return\n",
    "        print(f\"{c*-1}{b}x+{a}{b}{c}\")\n",
    "        print(f\"{(c*-1)-a}{b}x{b}{c-a}\")\n",
    "    else:\n",
    "        print(f\"x+{a}<{c*-1} or x+{a}{b}{c}\")\n",
    "        print(f\"x<{(c*-1)-a} or x{b}{c-a}\")\n",
    "\n",
    "def complex_quadratic(a,b,c):\n",
    "    print(f\"(-{b}+|-sqrt({b**2}-{4*a*c}))/{2*a}\")\n",
    "    print(f\"(-{b}+|-sqrt({(b**2)-(4*a*c)}))/{2*a}\")\n",
    "    print(f\"(-{b}/{2*a})+(sqrt({((b**2)-(4*a*c))*-1})/{2*a})i\")\n",
    "    print(f\"(-{b}/{2*a})-(sqrt({((b**2)-(4*a*c))*-1})/{2*a})i\")\n",
    "\n",
    "def completing_the_square(a,b,c):\n",
    "    print(f\"{a}x^2+{b}x+{c}\")\n",
    "    print(f\"{a}x^2+{b}x={c*-1}\")\n",
    "    print(f\"({b}/2)^2)\")\n",
    "    d = (b/2)**2\n",
    "    factor_trinomial(a,b,d,\"x\")\n",
    "    print(f\"sqrt({(c*-1)+d})\")\n",
    "\n",
    "def convert_log(log, a,b,c):\n",
    "    print(f\"log sub(a) c = b\")\n",
    "    print(f\"a^b=c\")\n",
    "    if log:\n",
    "        print(f\"log sub({a}) {b} = {c}\")\n",
    "        print(f\"{a}^{c}={b}\")\n",
    "    else:\n",
    "        print(f\"{a}^{b}={c}\")\n",
    "        print(f\"log sub({a}) {c} = {b}\")\n",
    "\n",
    "def solve_log(a,b):\n",
    "    a = Fraction(a).limit_denominator()\n",
    "    b = Fraction(b).limit_denominator()\n",
    "    print(f\"log sub({a}) {b} = x\")\n",
    "    print(f\"{a}^x = {b}\")\n",
    "    if (b < 1) and (b > 0):\n",
    "        x_loop=-1\n",
    "    else:\n",
    "        x_loop=1\n",
    "    x = 0\n",
    "    while True:\n",
    "        x=x+x_loop\n",
    "        if a**x==b:\n",
    "            print(f\"{a}^{x}={b}\")\n",
    "            return x\n",
    "    \n",
    "def componded_interest(amount,interest,years):\n",
    "    interest = interest/100\n",
    "    for year in range(1,years+1):\n",
    "        new_interest = amount*interest\n",
    "        print(f\"${amount}*{interest}=${new_interest}\")\n",
    "        amount = amount+new_interest\n",
    "        print(f\"${amount}, year {year}\")\n",
    "        \n",
    "def line_distance(a,b):\n",
    "    x1 = a[0]\n",
    "    x2 = b[0]\n",
    "    y1 = a[1]\n",
    "    y2 = b[1]\n",
    "    print(f\"d=sqrt(({x2}-{x1})^2+({y2}-{y1})^2)\")\n",
    "    c = (x2-x1)**2\n",
    "    d = (y2-y1)**2\n",
    "    e = c+d\n",
    "    print(f\"d=sqrt({c}+{d})\")\n",
    "    print(f\"d=sqrt({e})\")\n",
    "    simplify_sq_root(e)\n",
    " \n",
    "def exponent_of_f_of_x(a,start,end):\n",
    "    a = Fraction(a).limit_denominator()\n",
    "    for idx in range(start,end+1):\n",
    "        print(f\"{a}^{idx}\")\n",
    "        print(f\"{a**idx}\\n---\")\n",
    "\n",
    "def two_variables(a,b,c,d):\n",
    "    print(f\"{a}({c}-x)+{b}x={d}\")\n",
    "    e=a*c\n",
    "    f=round(b-a,2)\n",
    "    print(f\"{e}+{f}x={d}\")\n",
    "    g=d-e\n",
    "    print(f\"{f}x={g}\")\n",
    "    h=g/f\n",
    "    print(f\"high={h}, low={c-h}\")\n",
    "\n",
    "def base_log(base,of):\n",
    "    print(f\"Log ({base}) {of} = ?\")\n",
    "    print(f\"(log {of})/(log {base})\")\n",
    "    ans = round(math.log(of,base),3)\n",
    "    print(f\"{base}^{ans}={of}\")\n",
    "\n",
    "def slope_equation(point,slope):\n",
    "    slope = Fraction(slope).limit_denominator()\n",
    "    print(f\"slope {slope}, coord {point}\")\n",
    "    print(f\"{point[1]}={slope}({point[0]})+b\")\n",
    "    print(f\"-b={slope}({point[0]})-{point[1]}\")\n",
    "    b = ((slope*point[0])-point[1])*-1\n",
    "    sign = \"+\"\n",
    "    if b < 0:\n",
    "        sign = \"\"\n",
    "    print(f\"y={slope}x{sign}{b}\")"
   ]
  },
  {
   "cell_type": "code",
   "execution_count": 2,
   "metadata": {
    "scrolled": false
   },
   "outputs": [
    {
     "ename": "NameError",
     "evalue": "name 'something' is not defined",
     "output_type": "error",
     "traceback": [
      "\u001b[0;31m---------------------------------------------------------------------------\u001b[0m",
      "\u001b[0;31mNameError\u001b[0m                                 Traceback (most recent call last)",
      "\u001b[1;32m/home/chris.nichols/Github/Math143/math.ipynb Cell 2'\u001b[0m in \u001b[0;36m<cell line: 1>\u001b[0;34m()\u001b[0m\n\u001b[0;32m----> <a href='vscode-notebook-cell:/home/chris.nichols/Github/Math143/math.ipynb#ch0000001?line=0'>1</a>\u001b[0m something\n",
      "\u001b[0;31mNameError\u001b[0m: name 'something' is not defined"
     ]
    }
   ],
   "source": [
    "something"
   ]
  },
  {
   "cell_type": "code",
   "execution_count": 6,
   "metadata": {},
   "outputs": [
    {
     "data": {
      "text/plain": [
       "880.8"
      ]
     },
     "execution_count": 6,
     "metadata": {},
     "output_type": "execute_result"
    }
   ],
   "source": [
    "86*5.3+(136-86)*8.5"
   ]
  },
  {
   "cell_type": "code",
   "execution_count": 51,
   "metadata": {},
   "outputs": [
    {
     "data": {
      "text/plain": [
       "300"
      ]
     },
     "execution_count": 51,
     "metadata": {},
     "output_type": "execute_result"
    }
   ],
   "source": [
    "15*20"
   ]
  },
  {
   "cell_type": "code",
   "execution_count": 45,
   "metadata": {},
   "outputs": [
    {
     "name": "stdout",
     "output_type": "stream",
     "text": [
      "Squareroot of 243\n",
      "81 * 3 = 243\n",
      "sqareroot of 81 is 9\n",
      "9 sqrt 3\n"
     ]
    },
    {
     "data": {
      "text/plain": [
       "(9, 3, False)"
      ]
     },
     "execution_count": 45,
     "metadata": {},
     "output_type": "execute_result"
    }
   ],
   "source": [
    "simplify_sq_root(243)"
   ]
  },
  {
   "cell_type": "code",
   "execution_count": 396,
   "metadata": {},
   "outputs": [
    {
     "name": "stdout",
     "output_type": "stream",
     "text": [
      "21y^2+-53y+30\n",
      "multiply first and last numbers\n",
      "21*30=630\n",
      "----------\n",
      "check all factors of 630, then check that the first and last numbers added make -53\n",
      "1*630=630\n",
      "-1*-630=630\n",
      "2*315=630\n",
      "-2*-315=630\n",
      "3*210=630\n",
      "-3*-210=630\n",
      "5*126=630\n",
      "-5*-126=630\n",
      "6*105=630\n",
      "-6*-105=630\n",
      "7*90=630\n",
      "-7*-90=630\n",
      "9*70=630\n",
      "-9*-70=630\n",
      "10*63=630\n",
      "-10*-63=630\n",
      "14*45=630\n",
      "-14*-45=630\n",
      "15*42=630\n",
      "-15*-42=630\n",
      "18*35=630\n",
      "-18*-35=630\n",
      "----------\n",
      "18+35=-53\n",
      "----------\n",
      "21y^2+-18y+-35y+30\n",
      "reduce and group\n",
      "-3y(-7y+6)+5.0(-7y+6)\n",
      "final grouping\n",
      "(-3y+5.0)+(-7y+6)\n"
     ]
    }
   ],
   "source": [
    "factor_trinomial(21,-53,30,\"y\")"
   ]
  },
  {
   "cell_type": "code",
   "execution_count": 102,
   "metadata": {},
   "outputs": [
    {
     "name": "stdout",
     "output_type": "stream",
     "text": [
      "9-4\n",
      "get the squares, and + and - factor them\n",
      "(3+2z)(3-2z)\n"
     ]
    }
   ],
   "source": [
    "factor_square(2,24,\"z\")"
   ]
  },
  {
   "cell_type": "code",
   "execution_count": 87,
   "metadata": {},
   "outputs": [
    {
     "name": "stdout",
     "output_type": "stream",
     "text": [
      "3\n"
     ]
    }
   ],
   "source": [
    "print(answer.denominator)"
   ]
  },
  {
   "cell_type": "code",
   "execution_count": 66,
   "metadata": {},
   "outputs": [
    {
     "data": {
      "text/plain": [
       "0.7631428283688879"
      ]
     },
     "execution_count": 66,
     "metadata": {},
     "output_type": "execute_result"
    }
   ],
   "source": [
    "answer**answer"
   ]
  },
  {
   "cell_type": "code",
   "execution_count": 412,
   "metadata": {},
   "outputs": [
    {
     "data": {
      "text/plain": [
       "12"
      ]
     },
     "execution_count": 412,
     "metadata": {},
     "output_type": "execute_result"
    }
   ],
   "source": [
    "-3*(-2**2)"
   ]
  },
  {
   "cell_type": "code",
   "execution_count": 133,
   "metadata": {},
   "outputs": [
    {
     "data": {
      "text/plain": [
       "0"
      ]
     },
     "execution_count": 133,
     "metadata": {},
     "output_type": "execute_result"
    }
   ],
   "source": [
    "176 % 1"
   ]
  },
  {
   "cell_type": "code",
   "execution_count": 399,
   "metadata": {},
   "outputs": [
    {
     "name": "stdout",
     "output_type": "stream",
     "text": [
      "area: 4775.9400000000005\n",
      "circ: 244.92000000000002\n"
     ]
    }
   ],
   "source": [
    "circle_shit(78/2)"
   ]
  },
  {
   "cell_type": "code",
   "execution_count": 414,
   "metadata": {},
   "outputs": [
    {
     "data": {
      "text/plain": [
       "0.4207492795389049"
      ]
     },
     "execution_count": 414,
     "metadata": {},
     "output_type": "execute_result"
    }
   ],
   "source": [
    "146/347"
   ]
  },
  {
   "cell_type": "code",
   "execution_count": 402,
   "metadata": {},
   "outputs": [
    {
     "data": {
      "text/plain": [
       "216"
      ]
     },
     "execution_count": 402,
     "metadata": {},
     "output_type": "execute_result"
    }
   ],
   "source": [
    "27*(2**3)"
   ]
  },
  {
   "cell_type": "code",
   "execution_count": 404,
   "metadata": {},
   "outputs": [
    {
     "data": {
      "text/plain": [
       "121"
      ]
     },
     "execution_count": 404,
     "metadata": {},
     "output_type": "execute_result"
    }
   ],
   "source": [
    "(3*2+5)**2"
   ]
  },
  {
   "cell_type": "code",
   "execution_count": null,
   "metadata": {},
   "outputs": [],
   "source": []
  }
 ],
 "metadata": {
  "interpreter": {
   "hash": "5b3ded1ccb95c1d9bd405e7b823d9e85424cde40fbb5985eb47e999ef50e15b4"
  },
  "kernelspec": {
   "display_name": "Python 3 (ipykernel)",
   "language": "python",
   "name": "python3"
  },
  "language_info": {
   "codemirror_mode": {
    "name": "ipython",
    "version": 3
   },
   "file_extension": ".py",
   "mimetype": "text/x-python",
   "name": "python",
   "nbconvert_exporter": "python",
   "pygments_lexer": "ipython3",
   "version": "3.8.10"
  }
 },
 "nbformat": 4,
 "nbformat_minor": 2
}
