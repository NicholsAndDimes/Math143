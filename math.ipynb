{
 "cells": [
  {
   "cell_type": "code",
   "execution_count": 123,
   "metadata": {},
   "outputs": [],
   "source": [
    "import math\n",
    "from fractions import Fraction\n",
    "\n",
    "def remove_exponent(x,y):\n",
    "    print(f\"{x}^{y}\")\n",
    "    print(\"move the exponent into the denominator\")\n",
    "    y = y*-1\n",
    "    print(f\"1/{x}^{y}\")\n",
    "    ans = x**y\n",
    "    print(f\"1/{ans}\")\n",
    "\n",
    "    return 1/int(ans)\n",
    "\n",
    "def simplify_exponent_fraction(x,y):\n",
    "    print(f\"1/{x}^{y}\")\n",
    "    print(\"move exponent into the numerator and remove the negative\")\n",
    "    y = y*-1\n",
    "    print(f\"{x}^{y}\")\n",
    "    ans = x**y\n",
    "    print(ans)\n",
    "\n",
    "    return ans\n",
    "\n",
    "def fractional_exponent(x,y,z):\n",
    "    print(f\"({x}/{y})^{z}\")\n",
    "    if z < 0:\n",
    "        z = z*-1\n",
    "        print(\"invert fraction and remove the negative exponent\")\n",
    "        x,y = y,x\n",
    "        print(f\"({x}/{y})^{z}\")\n",
    "    print(\"apply exp to both numerator and denominator\")\n",
    "    print(f\"{x}^{z}/{y}^{z}\")\n",
    "    x_ans = x**z\n",
    "    y_ans = y**z\n",
    "    print(f\"{x_ans}/{y_ans}\")\n",
    "\n",
    "    return x_ans/y_ans\n",
    "\n",
    "def power_of_power(x,y,z):\n",
    "    print(f\"({x}^{y})^{z}\")\n",
    "    print(\"multiply exponents together\")\n",
    "    y_ans = y*z\n",
    "    print(f\"{x}^{y_ans}\")\n",
    "    if y_ans < 0:\n",
    "        print(\"invert negative exponent\")\n",
    "        y_ans = y_ans*-1\n",
    "        print(f\"1/({x}^{y_ans}\")\n",
    "\n",
    "def factor_trinomial(x,y,z,letter):\n",
    "    ans = False\n",
    "    break_line = \"-\"*10\n",
    "    print(f\"{x}{letter}^2+{y}{letter}+{z}\")\n",
    "    print(\"multiply first and last numbers\")\n",
    "    print(f\"{x}*{z}={x*z}\")\n",
    "    print(break_line)\n",
    "    pq = x*z\n",
    "    if pq < 0:\n",
    "        pq = pq*-1\n",
    "    print(f\"check all factors of {pq}, then check that the first and last numbers added make {y}\")\n",
    "    for a in range(int(math.sqrt(pq))):\n",
    "        if a == 0:\n",
    "            continue\n",
    "        if x*z % a == 0:\n",
    "            print(f\"{a}*{int((x*z)/a)}={int(x*z)}\")\n",
    "            print(f\"{-a}*{int(-1*((x*z)/a))}={int(x*z)}\")\n",
    "        \n",
    "        a_list = [a,int(-1*a)]\n",
    "        for b in a_list:\n",
    "            if b+(int(x*z)/b)==y:\n",
    "                print(break_line)\n",
    "                print(f\"{a}+{int((x*z)/a)}={y}\")\n",
    "                print(break_line)\n",
    "                ans = True\n",
    "                break\n",
    "        if ans == True:\n",
    "            break\n",
    "    if ans == False:\n",
    "        print(\"cannot factor\")\n",
    "\n",
    "        return\n",
    "\n",
    "    print(f\"{x}{letter}^2+{b}{letter}+{int((x*z)/b)}{letter}+{z}\")\n",
    "    fraction_a = Fraction(x/b).limit_denominator()\n",
    "    fraction_b = Fraction(int((x*z)/b)/z).limit_denominator()\n",
    "    print(\"reduce and group\")\n",
    "    print(f\"{int(x/fraction_a.numerator)}{letter}({fraction_a.numerator}{letter}+{fraction_a.denominator})+{int((x*z)/b)/fraction_b.numerator}({fraction_b.numerator}{letter}+{fraction_b.denominator})\")\n",
    "    print(\"final grouping\")\n",
    "    print(f\"({int(x/fraction_a.numerator)}{letter}+{int((x*z)/b)/fraction_b.numerator})+({fraction_a.numerator}{letter}+{fraction_a.denominator})\")\n",
    "\n",
    "def difference_squares(x,y,letter):\n",
    "    print(f\"{x}-{y}\")\n",
    "    print(\"get the squares, and + and - factor them\")\n",
    "    x_sq = math.sqrt(x)\n",
    "    y_sq = math.sqrt(y)\n",
    "    if x_sq.is_integer() and y_sq.is_integer():\n",
    "        print(f\"({int(x_sq)}+{int(y_sq)}{letter})({int(x_sq)}-{int(y_sq)}{letter})\")\n",
    "\n"
   ]
  },
  {
   "cell_type": "code",
   "execution_count": 5,
   "metadata": {},
   "outputs": [
    {
     "name": "stdout",
     "output_type": "stream",
     "text": [
      "-7^-2\n",
      "move the exponent into the denominator\n",
      "1/-7^2\n",
      "1/49\n"
     ]
    },
    {
     "data": {
      "text/plain": [
       "0.02040816326530612"
      ]
     },
     "execution_count": 5,
     "metadata": {},
     "output_type": "execute_result"
    }
   ],
   "source": [
    "remove_exponent(-7,-2)"
   ]
  },
  {
   "cell_type": "code",
   "execution_count": 10,
   "metadata": {},
   "outputs": [
    {
     "name": "stdout",
     "output_type": "stream",
     "text": [
      "1/3^-3\n",
      "move exponent into the numerator\n",
      "3^3\n",
      "27\n"
     ]
    },
    {
     "data": {
      "text/plain": [
       "27"
      ]
     },
     "execution_count": 10,
     "metadata": {},
     "output_type": "execute_result"
    }
   ],
   "source": [
    "simplify_exponent_fraction(3,-3)"
   ]
  },
  {
   "cell_type": "code",
   "execution_count": 16,
   "metadata": {},
   "outputs": [
    {
     "name": "stdout",
     "output_type": "stream",
     "text": [
      "(9/5)^-2\n",
      "invert fraction\n",
      "(5/9)^2\n",
      "apply exp to both numerator and denominator\n",
      "5^2/9^2\n",
      "25/81\n"
     ]
    },
    {
     "data": {
      "text/plain": [
       "0.30864197530864196"
      ]
     },
     "execution_count": 16,
     "metadata": {},
     "output_type": "execute_result"
    }
   ],
   "source": [
    "fractional_exponent(9,5,-2)"
   ]
  },
  {
   "cell_type": "code",
   "execution_count": 9,
   "metadata": {},
   "outputs": [
    {
     "name": "stdout",
     "output_type": "stream",
     "text": [
      "(x^-4)^-5\n",
      "multiply exponents together\n",
      "x^20\n"
     ]
    }
   ],
   "source": [
    "power_of_power(\"x\",-4,-5)"
   ]
  },
  {
   "cell_type": "code",
   "execution_count": 122,
   "metadata": {},
   "outputs": [
    {
     "name": "stdout",
     "output_type": "stream",
     "text": [
      "1y^2+12y+-21\n",
      "multiply first and last numbers\n",
      "1*-21=-21\n",
      "----------\n",
      "check all factors of 21, then check that the first and last numbers added make 12\n",
      "trying 1*-21\n",
      "1*-21=-21\n",
      "-1*21=-21\n",
      "trying 2*-10\n",
      "trying 3*-7\n",
      "3*-7=-21\n",
      "-3*7=-21\n",
      "cannot factor\n"
     ]
    }
   ],
   "source": [
    "factor_trinomial(1,12,-21,\"y\")"
   ]
  },
  {
   "cell_type": "code",
   "execution_count": 102,
   "metadata": {},
   "outputs": [
    {
     "name": "stdout",
     "output_type": "stream",
     "text": [
      "9-4\n",
      "get the squares, and + and - factor them\n",
      "(3+2z)(3-2z)\n"
     ]
    }
   ],
   "source": [
    "factor_square(2,24,\"z\")"
   ]
  },
  {
   "cell_type": "code",
   "execution_count": 87,
   "metadata": {},
   "outputs": [
    {
     "name": "stdout",
     "output_type": "stream",
     "text": [
      "3\n"
     ]
    }
   ],
   "source": [
    "print(answer.denominator)"
   ]
  },
  {
   "cell_type": "code",
   "execution_count": 66,
   "metadata": {},
   "outputs": [
    {
     "data": {
      "text/plain": [
       "0.7631428283688879"
      ]
     },
     "execution_count": 66,
     "metadata": {},
     "output_type": "execute_result"
    }
   ],
   "source": [
    "answer**answer"
   ]
  },
  {
   "cell_type": "code",
   "execution_count": null,
   "metadata": {},
   "outputs": [],
   "source": []
  }
 ],
 "metadata": {
  "interpreter": {
   "hash": "5b3ded1ccb95c1d9bd405e7b823d9e85424cde40fbb5985eb47e999ef50e15b4"
  },
  "kernelspec": {
   "display_name": "Python 3.8.10 64-bit",
   "language": "python",
   "name": "python3"
  },
  "language_info": {
   "codemirror_mode": {
    "name": "ipython",
    "version": 3
   },
   "file_extension": ".py",
   "mimetype": "text/x-python",
   "name": "python",
   "nbconvert_exporter": "python",
   "pygments_lexer": "ipython3",
   "version": "3.8.10"
  },
  "orig_nbformat": 4
 },
 "nbformat": 4,
 "nbformat_minor": 2
}
